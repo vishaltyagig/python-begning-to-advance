{
 "cells": [
  {
   "cell_type": "markdown",
   "id": "7a6b4dba",
   "metadata": {},
   "source": [
    "## String's Operations"
   ]
  },
  {
   "cell_type": "code",
   "execution_count": 1,
   "id": "4eed9de7",
   "metadata": {},
   "outputs": [
    {
     "name": "stdout",
     "output_type": "stream",
     "text": [
      "Dadda\n"
     ]
    }
   ],
   "source": [
    "names = (\"Dadda,Vishal\")\n",
    "print(names[0:5])"
   ]
  },
  {
   "cell_type": "code",
   "execution_count": 2,
   "id": "1b1453bf",
   "metadata": {},
   "outputs": [
    {
     "name": "stdout",
     "output_type": "stream",
     "text": [
      "Dadd\n"
     ]
    }
   ],
   "source": [
    "names = (\"Dadda,Vishal\")\n",
    "print(names[0:4])"
   ]
  },
  {
   "cell_type": "code",
   "execution_count": 3,
   "id": "84f8361d",
   "metadata": {},
   "outputs": [
    {
     "name": "stdout",
     "output_type": "stream",
     "text": [
      "Dadda,\n"
     ]
    }
   ],
   "source": [
    "names = (\"Dadda,Vishal\")\n",
    "print(names[0:6])"
   ]
  },
  {
   "cell_type": "code",
   "execution_count": 4,
   "id": "e954b79a",
   "metadata": {},
   "outputs": [
    {
     "name": "stdout",
     "output_type": "stream",
     "text": [
      "12\n"
     ]
    }
   ],
   "source": [
    "names = (\"Dadda,Vishal\")\n",
    "print(len(names))"
   ]
  },
  {
   "cell_type": "code",
   "execution_count": 5,
   "id": "921d2edb",
   "metadata": {},
   "outputs": [
    {
     "name": "stdout",
     "output_type": "stream",
     "text": [
      "Dadda,Vishal\n"
     ]
    }
   ],
   "source": [
    "names = (\"Dadda,Vishal\")\n",
    "print(names[0:12])"
   ]
  },
  {
   "cell_type": "code",
   "execution_count": 6,
   "id": "ebbc58a6",
   "metadata": {},
   "outputs": [
    {
     "name": "stdout",
     "output_type": "stream",
     "text": [
      "Dadda,Visha\n"
     ]
    }
   ],
   "source": [
    "names = (\"Dadda,Vishal\")\n",
    "print(names[0:11])"
   ]
  },
  {
   "cell_type": "code",
   "execution_count": 7,
   "id": "2e950bc7",
   "metadata": {},
   "outputs": [
    {
     "name": "stdout",
     "output_type": "stream",
     "text": [
      "Dadda,V\n"
     ]
    }
   ],
   "source": [
    "names = (\"Dadda,Vishal\")\n",
    "print(names[0:-5])"
   ]
  },
  {
   "cell_type": "code",
   "execution_count": 8,
   "id": "7847651e",
   "metadata": {},
   "outputs": [
    {
     "name": "stdout",
     "output_type": "stream",
     "text": [
      "Dadda,V\n"
     ]
    }
   ],
   "source": [
    "names = (\"Dadda,Vishal\")\n",
    "print(names[:-5])"
   ]
  },
  {
   "cell_type": "code",
   "execution_count": 9,
   "id": "1e83f99e",
   "metadata": {},
   "outputs": [
    {
     "name": "stdout",
     "output_type": "stream",
     "text": [
      "a\n"
     ]
    }
   ],
   "source": [
    "names = (\"Dadda,Vishal\")\n",
    "print(names[-8])"
   ]
  },
  {
   "cell_type": "code",
   "execution_count": 10,
   "id": "c7d46878",
   "metadata": {},
   "outputs": [
    {
     "name": "stdout",
     "output_type": "stream",
     "text": [
      "d\n"
     ]
    }
   ],
   "source": [
    "names = (\"Dadda,Vishal\")\n",
    "print(names[-9])"
   ]
  },
  {
   "cell_type": "code",
   "execution_count": 11,
   "id": "580c56da",
   "metadata": {},
   "outputs": [
    {
     "name": "stdout",
     "output_type": "stream",
     "text": [
      "D\n"
     ]
    }
   ],
   "source": [
    "names = (\"Dadda,Vishal\")\n",
    "print(names[-12])"
   ]
  },
  {
   "cell_type": "code",
   "execution_count": 12,
   "id": "a6e6880c",
   "metadata": {},
   "outputs": [
    {
     "name": "stdout",
     "output_type": "stream",
     "text": [
      ",\n"
     ]
    }
   ],
   "source": [
    "names = (\"Dadda,Vishal\")\n",
    "print(names[5])"
   ]
  },
  {
   "cell_type": "code",
   "execution_count": 13,
   "id": "a92ae3ea",
   "metadata": {},
   "outputs": [
    {
     "name": "stdout",
     "output_type": "stream",
     "text": [
      "a\n"
     ]
    }
   ],
   "source": [
    "names = (\"Dadda,Vishal\")\n",
    "print(names[4])"
   ]
  },
  {
   "cell_type": "code",
   "execution_count": 14,
   "id": "d41019d4",
   "metadata": {},
   "outputs": [
    {
     "name": "stdout",
     "output_type": "stream",
     "text": [
      ",Vis\n"
     ]
    }
   ],
   "source": [
    "names = (\"Dadda,Vishal\")\n",
    "print(names[5:9])"
   ]
  },
  {
   "cell_type": "code",
   "execution_count": 15,
   "id": "0e963506",
   "metadata": {},
   "outputs": [
    {
     "name": "stdout",
     "output_type": "stream",
     "text": [
      "Vish\n"
     ]
    }
   ],
   "source": [
    "names = (\"Dadda,Vishal\")\n",
    "print(names[6:10])"
   ]
  },
  {
   "cell_type": "code",
   "execution_count": 16,
   "id": "a1ecd16d",
   "metadata": {},
   "outputs": [
    {
     "name": "stdout",
     "output_type": "stream",
     "text": [
      "Dadda,Vishal\n"
     ]
    }
   ],
   "source": [
    "names = (\"Dadda,Vishal\")\n",
    "print(names[0:])"
   ]
  },
  {
   "cell_type": "code",
   "execution_count": 17,
   "id": "ba219c2d",
   "metadata": {},
   "outputs": [
    {
     "name": "stdout",
     "output_type": "stream",
     "text": [
      "D\n"
     ]
    }
   ],
   "source": [
    "names = (\"Dadda,Vishal\")\n",
    "print(names[0])"
   ]
  },
  {
   "cell_type": "code",
   "execution_count": 18,
   "id": "f799ed31",
   "metadata": {},
   "outputs": [
    {
     "name": "stdout",
     "output_type": "stream",
     "text": [
      "\n"
     ]
    }
   ],
   "source": [
    "names = (\"Dadda,Vishal\")\n",
    "print(names[:0])"
   ]
  },
  {
   "cell_type": "code",
   "execution_count": 19,
   "id": "f0910219",
   "metadata": {},
   "outputs": [
    {
     "name": "stdout",
     "output_type": "stream",
     "text": [
      "\n"
     ]
    }
   ],
   "source": [
    "names = (\"Dadda,Vishal\")\n",
    "print(names[:-0])"
   ]
  },
  {
   "cell_type": "code",
   "execution_count": 20,
   "id": "c1d0869a",
   "metadata": {},
   "outputs": [
    {
     "name": "stdout",
     "output_type": "stream",
     "text": [
      "sh\n"
     ]
    }
   ],
   "source": [
    "names = (\"Dadda,Vishal\")\n",
    "print(names[-4:-2])"
   ]
  },
  {
   "cell_type": "code",
   "execution_count": 21,
   "id": "3890822e",
   "metadata": {},
   "outputs": [
    {
     "name": "stdout",
     "output_type": "stream",
     "text": [
      "a,Vish\n"
     ]
    }
   ],
   "source": [
    "names = (\"Dadda,Vishal\")\n",
    "print(names[-8:-2])"
   ]
  },
  {
   "cell_type": "code",
   "execution_count": 22,
   "id": "93422d5e",
   "metadata": {},
   "outputs": [
    {
     "name": "stdout",
     "output_type": "stream",
     "text": [
      "Vish\n"
     ]
    }
   ],
   "source": [
    "names = (\"Dadda,Vishal\")\n",
    "print(names[-6:-2])"
   ]
  },
  {
   "cell_type": "code",
   "execution_count": 23,
   "id": "ac90cf8d",
   "metadata": {},
   "outputs": [
    {
     "name": "stdout",
     "output_type": "stream",
     "text": [
      "Dadda,Vishal\n"
     ]
    }
   ],
   "source": [
    "names = (\"Dadda,Vishal\")\n",
    "print(names[0:])"
   ]
  },
  {
   "cell_type": "code",
   "execution_count": 24,
   "id": "c75f321b",
   "metadata": {},
   "outputs": [
    {
     "name": "stdout",
     "output_type": "stream",
     "text": [
      "Dadda,Vishal\n"
     ]
    }
   ],
   "source": [
    "names = (\"Dadda,Vishal\")\n",
    "print(names[-0:])"
   ]
  },
  {
   "cell_type": "code",
   "execution_count": null,
   "id": "465ed367",
   "metadata": {},
   "outputs": [],
   "source": []
  }
 ],
 "metadata": {
  "kernelspec": {
   "display_name": "Python 3 (ipykernel)",
   "language": "python",
   "name": "python3"
  },
  "language_info": {
   "codemirror_mode": {
    "name": "ipython",
    "version": 3
   },
   "file_extension": ".py",
   "mimetype": "text/x-python",
   "name": "python",
   "nbconvert_exporter": "python",
   "pygments_lexer": "ipython3",
   "version": "3.10.9"
  }
 },
 "nbformat": 4,
 "nbformat_minor": 5
}
