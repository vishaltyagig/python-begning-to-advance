{
 "cells": [
  {
   "cell_type": "markdown",
   "id": "bb743360",
   "metadata": {},
   "source": [
    "## Time program"
   ]
  },
  {
   "cell_type": "code",
   "execution_count": 1,
   "id": "3befe0d5",
   "metadata": {},
   "outputs": [],
   "source": [
    "import time"
   ]
  },
  {
   "cell_type": "code",
   "execution_count": 2,
   "id": "21d1e55b",
   "metadata": {},
   "outputs": [
    {
     "name": "stdout",
     "output_type": "stream",
     "text": [
      "06:5916\n"
     ]
    }
   ],
   "source": [
    "t = time.strftime(\"%H:%M%S\")\n",
    "print(t)"
   ]
  },
  {
   "cell_type": "code",
   "execution_count": 3,
   "id": "23f33578",
   "metadata": {},
   "outputs": [
    {
     "ename": "AttributeError",
     "evalue": "module 'time' has no attribute 'starftime'",
     "output_type": "error",
     "traceback": [
      "\u001b[1;31m---------------------------------------------------------------------------\u001b[0m",
      "\u001b[1;31mAttributeError\u001b[0m                            Traceback (most recent call last)",
      "Cell \u001b[1;32mIn[3], line 2\u001b[0m\n\u001b[0;32m      1\u001b[0m t \u001b[38;5;241m=\u001b[39m time\u001b[38;5;241m.\u001b[39mstrftime(\u001b[38;5;124m\"\u001b[39m\u001b[38;5;124m%\u001b[39m\u001b[38;5;124mH:\u001b[39m\u001b[38;5;124m%\u001b[39m\u001b[38;5;124mM\u001b[39m\u001b[38;5;124m%\u001b[39m\u001b[38;5;124mS\u001b[39m\u001b[38;5;124m\"\u001b[39m)\n\u001b[1;32m----> 2\u001b[0m hour \u001b[38;5;241m=\u001b[39m \u001b[38;5;28mint\u001b[39m(\u001b[43mtime\u001b[49m\u001b[38;5;241;43m.\u001b[39;49m\u001b[43mstarftime\u001b[49m(\u001b[38;5;124m\"\u001b[39m\u001b[38;5;124m%\u001b[39m\u001b[38;5;124mH\u001b[39m\u001b[38;5;124m\"\u001b[39m))\n\u001b[0;32m      3\u001b[0m \u001b[38;5;28mprint\u001b[39m(hour)\n\u001b[0;32m      5\u001b[0m \u001b[38;5;28;01mif\u001b[39;00m(hour\u001b[38;5;241m>\u001b[39m\u001b[38;5;241m=\u001b[39m\u001b[38;5;241m4\u001b[39m \u001b[38;5;129;01mand\u001b[39;00m hour\u001b[38;5;241m<\u001b[39m\u001b[38;5;241m12\u001b[39m):\n",
      "\u001b[1;31mAttributeError\u001b[0m: module 'time' has no attribute 'starftime'"
     ]
    }
   ],
   "source": [
    "t = time.strftime(\"%H:%M%S\")\n",
    "hour = int(time.starftime(\"%H\"))\n",
    "print(hour)\n",
    "\n",
    "if(hour>=4 and hour<12):\n",
    "    print(\"Good Morning Tyagi g\")\n",
    "elif(hour>=13 and hour<7):\n",
    "    print(\"Good Afternoon Tyagi g\")\n",
    "if(hour>=8 and hour<3):\n",
    "    print(\"Good Night Tyagi g\")"
   ]
  },
  {
   "cell_type": "code",
   "execution_count": null,
   "id": "e657e711",
   "metadata": {},
   "outputs": [],
   "source": []
  }
 ],
 "metadata": {
  "kernelspec": {
   "display_name": "Python 3 (ipykernel)",
   "language": "python",
   "name": "python3"
  },
  "language_info": {
   "codemirror_mode": {
    "name": "ipython",
    "version": 3
   },
   "file_extension": ".py",
   "mimetype": "text/x-python",
   "name": "python",
   "nbconvert_exporter": "python",
   "pygments_lexer": "ipython3",
   "version": "3.10.9"
  }
 },
 "nbformat": 4,
 "nbformat_minor": 5
}
