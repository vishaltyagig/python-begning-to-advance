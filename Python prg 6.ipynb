{
 "cells": [
  {
   "cell_type": "markdown",
   "id": "a28d5acc",
   "metadata": {},
   "source": [
    "## String"
   ]
  },
  {
   "cell_type": "code",
   "execution_count": 1,
   "id": "5de2c8b3",
   "metadata": {},
   "outputs": [
    {
     "name": "stdout",
     "output_type": "stream",
     "text": [
      "Hello Dadda\n"
     ]
    }
   ],
   "source": [
    "name = \"Dadda\"\n",
    "print(\"Hello\", name)"
   ]
  },
  {
   "cell_type": "code",
   "execution_count": 2,
   "id": "74ed4b7e",
   "metadata": {},
   "outputs": [
    {
     "name": "stdout",
     "output_type": "stream",
     "text": [
      "Hello Dadda\n",
      "D\n",
      "a\n",
      "d\n",
      "d\n",
      "a\n"
     ]
    }
   ],
   "source": [
    "name = \"Dadda\"\n",
    "apple = \"\"\"He Said,\n",
    "Hi Tyagi\n",
    "hey i m Good\n",
    "I wanna to eat an apple\"\"\"\n",
    "print(\"Hello\", name)\n",
    "print(name[0])\n",
    "print(name[1])\n",
    "print(name[2])\n",
    "print(name[3])\n",
    "print(name[4])"
   ]
  },
  {
   "cell_type": "code",
   "execution_count": 4,
   "id": "1da69ba9",
   "metadata": {},
   "outputs": [
    {
     "name": "stdout",
     "output_type": "stream",
     "text": [
      "Hello Dadda\n",
      "D\n",
      "a\n",
      "d\n",
      "d\n",
      "a\n",
      "Let's use a for loop\n",
      "\n",
      "D\n",
      "a\n",
      "d\n",
      "d\n",
      "a\n"
     ]
    }
   ],
   "source": [
    "name = \"Dadda\"\n",
    "apple = \"\"\"He Said,\n",
    "Hi Tyagi\n",
    "hey i m Good\n",
    "I wanna to eat an apple\"\"\"\n",
    "print(\"Hello\", name)\n",
    "print(name[0])\n",
    "print(name[1])\n",
    "print(name[2])\n",
    "print(name[3])\n",
    "print(name[4])\n",
    "print(\"Let's use a for loop\\n\")\n",
    "for character in name:\n",
    "    print(character)"
   ]
  },
  {
   "cell_type": "code",
   "execution_count": 5,
   "id": "6ee1be6c",
   "metadata": {},
   "outputs": [
    {
     "name": "stdout",
     "output_type": "stream",
     "text": [
      "Hello Dadda\n",
      "D\n",
      "a\n",
      "d\n",
      "d\n",
      "a\n",
      "Let's use a for loop\n",
      "\n",
      "H\n",
      "e\n",
      " \n",
      "S\n",
      "a\n",
      "i\n",
      "d\n",
      ",\n",
      "\n",
      "\n",
      "H\n",
      "i\n",
      " \n",
      "T\n",
      "y\n",
      "a\n",
      "g\n",
      "i\n",
      "\n",
      "\n",
      "h\n",
      "e\n",
      "y\n",
      " \n",
      "i\n",
      " \n",
      "m\n",
      " \n",
      "G\n",
      "o\n",
      "o\n",
      "d\n",
      "\n",
      "\n",
      "I\n",
      " \n",
      "w\n",
      "a\n",
      "n\n",
      "n\n",
      "a\n",
      " \n",
      "t\n",
      "o\n",
      " \n",
      "e\n",
      "a\n",
      "t\n",
      " \n",
      "a\n",
      "n\n",
      " \n",
      "a\n",
      "p\n",
      "p\n",
      "l\n",
      "e\n"
     ]
    }
   ],
   "source": [
    "name = \"Dadda\"\n",
    "apple = \"\"\"He Said,\n",
    "Hi Tyagi\n",
    "hey i m Good\n",
    "I wanna to eat an apple\"\"\"\n",
    "print(\"Hello\", name)\n",
    "print(name[0])\n",
    "print(name[1])\n",
    "print(name[2])\n",
    "print(name[3])\n",
    "print(name[4])\n",
    "print(\"Let's use a for loop\\n\")\n",
    "for character in apple:\n",
    "    print(character)"
   ]
  },
  {
   "cell_type": "code",
   "execution_count": null,
   "id": "c769d0bf",
   "metadata": {},
   "outputs": [],
   "source": []
  }
 ],
 "metadata": {
  "kernelspec": {
   "display_name": "Python 3 (ipykernel)",
   "language": "python",
   "name": "python3"
  },
  "language_info": {
   "codemirror_mode": {
    "name": "ipython",
    "version": 3
   },
   "file_extension": ".py",
   "mimetype": "text/x-python",
   "name": "python",
   "nbconvert_exporter": "python",
   "pygments_lexer": "ipython3",
   "version": "3.10.9"
  }
 },
 "nbformat": 4,
 "nbformat_minor": 5
}
