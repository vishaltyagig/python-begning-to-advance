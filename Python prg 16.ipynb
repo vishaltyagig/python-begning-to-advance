{
 "cells": [
  {
   "cell_type": "markdown",
   "id": "940716bf",
   "metadata": {},
   "source": [
    "## Function arguments"
   ]
  },
  {
   "cell_type": "code",
   "execution_count": 3,
   "id": "a99f34ac",
   "metadata": {},
   "outputs": [
    {
     "name": "stdout",
     "output_type": "stream",
     "text": [
      "The average is 5.0\n"
     ]
    }
   ],
   "source": [
    "def average(a,b):\n",
    "    print(\"The average is\", (a+b)/2)\n",
    "    \n",
    "average(4,6)"
   ]
  },
  {
   "cell_type": "code",
   "execution_count": 5,
   "id": "9154081d",
   "metadata": {},
   "outputs": [
    {
     "name": "stdout",
     "output_type": "stream",
     "text": [
      "The average is 7.0\n"
     ]
    }
   ],
   "source": [
    "def average(a=9,b=5):\n",
    "    print(\"The average is\", (a+b)/2)\n",
    "    \n",
    "average()"
   ]
  },
  {
   "cell_type": "code",
   "execution_count": 6,
   "id": "470320de",
   "metadata": {},
   "outputs": [
    {
     "name": "stdout",
     "output_type": "stream",
     "text": [
      "The average is 5.0\n"
     ]
    }
   ],
   "source": [
    "def average(a=9,b=5):\n",
    "    print(\"The average is\", (a+b)/2)\n",
    "    \n",
    "average(5)"
   ]
  },
  {
   "cell_type": "code",
   "execution_count": 7,
   "id": "88884377",
   "metadata": {},
   "outputs": [
    {
     "name": "stdout",
     "output_type": "stream",
     "text": [
      "The average is 6.0\n"
     ]
    }
   ],
   "source": [
    "def average(a=9,b=5):\n",
    "    print(\"The average is\", (a+b)/2)\n",
    "    \n",
    "average(b=3)"
   ]
  },
  {
   "cell_type": "code",
   "execution_count": 8,
   "id": "134680bd",
   "metadata": {},
   "outputs": [
    {
     "name": "stdout",
     "output_type": "stream",
     "text": [
      "The average is 5.0\n"
     ]
    }
   ],
   "source": [
    "def average(a=9,b=5):\n",
    "    print(\"The average is\", (a+b)/2)\n",
    "    \n",
    "average(6,4)"
   ]
  },
  {
   "cell_type": "code",
   "execution_count": 9,
   "id": "a3f09a9a",
   "metadata": {},
   "outputs": [
    {
     "name": "stdout",
     "output_type": "stream",
     "text": [
      "The average is 12.0\n"
     ]
    }
   ],
   "source": [
    "def average(a=9,b=5):\n",
    "    print(\"The average is\", (a+b)/2)\n",
    "    \n",
    "average(b=8, a=16)"
   ]
  },
  {
   "cell_type": "code",
   "execution_count": 10,
   "id": "5809a88d",
   "metadata": {},
   "outputs": [
    {
     "name": "stdout",
     "output_type": "stream",
     "text": [
      "Average is:  5.5\n"
     ]
    }
   ],
   "source": [
    "def average(*numbers):\n",
    "    sum = 0\n",
    "    for i in numbers:\n",
    "        sum = sum +i\n",
    "    print(\"Average is: \", sum/len(numbers))\n",
    "    \n",
    "average(5,6)"
   ]
  },
  {
   "cell_type": "code",
   "execution_count": 11,
   "id": "05148bc6",
   "metadata": {},
   "outputs": [
    {
     "name": "stdout",
     "output_type": "stream",
     "text": [
      "Average is:  5.0\n"
     ]
    }
   ],
   "source": [
    "def average(*numbers):\n",
    "    sum = 0\n",
    "    for i in numbers:\n",
    "        sum = sum +i\n",
    "    print(\"Average is: \", sum/len(numbers))\n",
    "    \n",
    "average(5,6,4)"
   ]
  },
  {
   "cell_type": "code",
   "execution_count": 12,
   "id": "73647bd8",
   "metadata": {},
   "outputs": [
    {
     "name": "stdout",
     "output_type": "stream",
     "text": [
      "5.0\n"
     ]
    }
   ],
   "source": [
    "def average(*numbers):\n",
    "    sum = 0\n",
    "    for i in numbers:\n",
    "        sum = sum +i\n",
    "#     print(\"Average is: \", sum/len(numbers))\n",
    "    return sum/len(numbers)\n",
    "    \n",
    "c = average(5,6,4)\n",
    "print(c)"
   ]
  },
  {
   "cell_type": "code",
   "execution_count": null,
   "id": "68c817ee",
   "metadata": {},
   "outputs": [],
   "source": []
  }
 ],
 "metadata": {
  "kernelspec": {
   "display_name": "Python 3 (ipykernel)",
   "language": "python",
   "name": "python3"
  },
  "language_info": {
   "codemirror_mode": {
    "name": "ipython",
    "version": 3
   },
   "file_extension": ".py",
   "mimetype": "text/x-python",
   "name": "python",
   "nbconvert_exporter": "python",
   "pygments_lexer": "ipython3",
   "version": "3.10.9"
  }
 },
 "nbformat": 4,
 "nbformat_minor": 5
}
