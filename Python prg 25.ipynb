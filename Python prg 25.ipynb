{
 "cells": [
  {
   "cell_type": "markdown",
   "id": "aa35f9c5",
   "metadata": {},
   "source": [
    "## Dictonary"
   ]
  },
  {
   "cell_type": "code",
   "execution_count": 1,
   "id": "d39063e1",
   "metadata": {},
   "outputs": [
    {
     "name": "stdout",
     "output_type": "stream",
     "text": [
      "{'Dadda': 'Human', 'Dog': 'Animal'}\n"
     ]
    }
   ],
   "source": [
    "dict = {\"Dadda\": \"Human\", \"Dog\": \"Animal\"}\n",
    "print(dict)"
   ]
  },
  {
   "cell_type": "code",
   "execution_count": 2,
   "id": "d9837320",
   "metadata": {},
   "outputs": [
    {
     "name": "stdout",
     "output_type": "stream",
     "text": [
      "{'Dadda': 'Human', 'Dog': 'Animal'}\n"
     ]
    }
   ],
   "source": [
    "dict = {\n",
    "    \"Dadda\": \"Human\", \"Dog\": \"Animal\"\n",
    "}\n",
    "print(dict)"
   ]
  },
  {
   "cell_type": "code",
   "execution_count": 3,
   "id": "6d95fba6",
   "metadata": {},
   "outputs": [
    {
     "name": "stdout",
     "output_type": "stream",
     "text": [
      "dict\n"
     ]
    }
   ],
   "source": [
    "dict = {\"Dadda\": \"Human\", \"Dog\": \"Animal\"}\n",
    "print(\"dict\")"
   ]
  },
  {
   "cell_type": "code",
   "execution_count": 4,
   "id": "514c461a",
   "metadata": {},
   "outputs": [
    {
     "name": "stdout",
     "output_type": "stream",
     "text": [
      "Human\n"
     ]
    }
   ],
   "source": [
    "dict = {\"Dadda\": \"Human\", \"Dog\": \"Animal\"}\n",
    "print(dict[\"Dadda\"])"
   ]
  },
  {
   "cell_type": "code",
   "execution_count": 5,
   "id": "6e513bdc",
   "metadata": {},
   "outputs": [
    {
     "name": "stdout",
     "output_type": "stream",
     "text": [
      "{1: 'Dadda', 2: 'Rakesh', 3: 'Aman', 4: 'Dheeraj', 5: 'Vishnu'}\n"
     ]
    }
   ],
   "source": [
    "dict = {\n",
    "    1: \"Dadda\",\n",
    "    2: \"Rakesh\",\n",
    "    3: \"Aman\",\n",
    "    4: \"Dheeraj\",\n",
    "    5: \"Vishnu\"\n",
    "}\n",
    "print(dict)"
   ]
  },
  {
   "cell_type": "code",
   "execution_count": 6,
   "id": "a8e2339a",
   "metadata": {},
   "outputs": [
    {
     "name": "stdout",
     "output_type": "stream",
     "text": [
      "Dadda\n"
     ]
    }
   ],
   "source": [
    "dict = {\n",
    "    1: \"Dadda\",\n",
    "    2: \"Rakesh\",\n",
    "    3: \"Aman\",\n",
    "    4: \"Dheeraj\",\n",
    "    5: \"Vishnu\"\n",
    "}\n",
    "print(dict[1])"
   ]
  },
  {
   "cell_type": "code",
   "execution_count": 9,
   "id": "3724e6c3",
   "metadata": {},
   "outputs": [
    {
     "name": "stdout",
     "output_type": "stream",
     "text": [
      "None\n"
     ]
    }
   ],
   "source": [
    "dict = {\n",
    "    1: \"Dadda\",\n",
    "    2: \"Rakesh\",\n",
    "    3: \"Aman\",\n",
    "    4: \"Dheeraj\",\n",
    "    5: \"Vishnu\"\n",
    "}\n",
    "print(dict.get(6))"
   ]
  },
  {
   "cell_type": "code",
   "execution_count": null,
   "id": "4a2fdc33",
   "metadata": {},
   "outputs": [],
   "source": []
  }
 ],
 "metadata": {
  "kernelspec": {
   "display_name": "Python 3 (ipykernel)",
   "language": "python",
   "name": "python3"
  },
  "language_info": {
   "codemirror_mode": {
    "name": "ipython",
    "version": 3
   },
   "file_extension": ".py",
   "mimetype": "text/x-python",
   "name": "python",
   "nbconvert_exporter": "python",
   "pygments_lexer": "ipython3",
   "version": "3.10.9"
  }
 },
 "nbformat": 4,
 "nbformat_minor": 5
}
