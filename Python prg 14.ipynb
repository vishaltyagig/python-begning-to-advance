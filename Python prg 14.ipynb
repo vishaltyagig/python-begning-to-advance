{
 "cells": [
  {
   "cell_type": "markdown",
   "id": "0aa06fa9",
   "metadata": {},
   "source": [
    "## While loop"
   ]
  },
  {
   "cell_type": "code",
   "execution_count": 1,
   "id": "8277188b",
   "metadata": {},
   "outputs": [
    {
     "name": "stdout",
     "output_type": "stream",
     "text": [
      "0\n",
      "1\n",
      "2\n"
     ]
    }
   ],
   "source": [
    "for i in range(3):\n",
    "    print(i)"
   ]
  },
  {
   "cell_type": "code",
   "execution_count": 2,
   "id": "d3ac7ab9",
   "metadata": {},
   "outputs": [
    {
     "name": "stdout",
     "output_type": "stream",
     "text": [
      "0\n",
      "1\n",
      "2\n",
      "Done with the loop\n"
     ]
    }
   ],
   "source": [
    "i = 0\n",
    "while(i<3):\n",
    "    print(i)\n",
    "    i = i+1\n",
    "    \n",
    "print(\"Done with the loop\")"
   ]
  },
  {
   "cell_type": "code",
   "execution_count": 3,
   "id": "84f265d5",
   "metadata": {},
   "outputs": [
    {
     "name": "stdout",
     "output_type": "stream",
     "text": [
      "Enter a number: 5\n",
      "Enter the number: 6\n",
      "6\n",
      "Enter the number: 35\n",
      "35\n",
      "Enter the number: 34\n",
      "34\n",
      "Enter the number: 36\n",
      "36\n",
      "Done with the loop\n"
     ]
    }
   ],
   "source": [
    "i = int(input(\"Enter a number: \"))\n",
    "while (i<=35):\n",
    "    i = int(input(\"Enter the number: \"))\n",
    "    print(i)\n",
    "    \n",
    "print(\"Done with the loop\")"
   ]
  },
  {
   "cell_type": "code",
   "execution_count": 4,
   "id": "92c5bfe7",
   "metadata": {},
   "outputs": [
    {
     "name": "stdout",
     "output_type": "stream",
     "text": [
      "Enter the number: 25\n",
      "25\n",
      "Enter the number: 35\n",
      "35\n",
      "Enter the number: 36\n",
      "36\n",
      "Done with the loop\n"
     ]
    }
   ],
   "source": [
    "i = 0\n",
    "while (i<=35):\n",
    "    i = int(input(\"Enter the number: \"))\n",
    "    print(i)\n",
    "    \n",
    "print(\"Done with the loop\")"
   ]
  },
  {
   "cell_type": "code",
   "execution_count": 5,
   "id": "152f4456",
   "metadata": {},
   "outputs": [
    {
     "name": "stdout",
     "output_type": "stream",
     "text": [
      "5\n"
     ]
    }
   ],
   "source": [
    "count = 5\n",
    "while (count>0):\n",
    "    print(count)\n",
    "    count= -1"
   ]
  },
  {
   "cell_type": "code",
   "execution_count": 6,
   "id": "c10a83dc",
   "metadata": {},
   "outputs": [
    {
     "name": "stdout",
     "output_type": "stream",
     "text": [
      "5\n",
      "4\n",
      "3\n",
      "2\n",
      "1\n"
     ]
    }
   ],
   "source": [
    "count = 5\n",
    "while (count>0):\n",
    "    print(count)\n",
    "    count= count-1"
   ]
  },
  {
   "cell_type": "code",
   "execution_count": 7,
   "id": "15e98ce8",
   "metadata": {},
   "outputs": [
    {
     "name": "stdout",
     "output_type": "stream",
     "text": [
      "5\n",
      "4\n",
      "3\n",
      "2\n",
      "1\n",
      "i m inside the else\n"
     ]
    }
   ],
   "source": [
    "count = 5\n",
    "while (count>0):\n",
    "    print(count)\n",
    "    count= count-1\n",
    "    \n",
    "else:\n",
    "    print(\"i m inside the else\")"
   ]
  },
  {
   "cell_type": "code",
   "execution_count": 8,
   "id": "a4218c8a",
   "metadata": {},
   "outputs": [
    {
     "name": "stdout",
     "output_type": "stream",
     "text": [
      "5 x 1 =  5\n",
      "5 x 2 =  10\n",
      "5 x 3 =  15\n",
      "5 x 4 =  20\n",
      "5 x 5 =  25\n",
      "5 x 6 =  30\n",
      "5 x 7 =  35\n",
      "5 x 8 =  40\n",
      "5 x 9 =  45\n",
      "5 x 10 =  50\n",
      "out of the loop\n"
     ]
    }
   ],
   "source": [
    "for i in range (12):\n",
    "    if (i == 10):\n",
    "        break\n",
    "    print(\"5 x\", i+1, \"= \", 5*(i+1))\n",
    "    \n",
    "print(\"out of the loop\")"
   ]
  },
  {
   "cell_type": "code",
   "execution_count": 9,
   "id": "9652a50f",
   "metadata": {},
   "outputs": [
    {
     "name": "stdout",
     "output_type": "stream",
     "text": [
      "5 x 1 = 5\n",
      "5 x 2 = 10\n",
      "5 x 3 = 15\n",
      "5 x 4 = 20\n",
      "5 x 5 = 25\n",
      "5 x 6 = 30\n",
      "5 x 7 = 35\n",
      "5 x 8 = 40\n",
      "5 x 9 = 45\n",
      "5 x 10 = 50\n",
      "out of the loop\n"
     ]
    }
   ],
   "source": [
    "for i in range (12):\n",
    "    if (i == 10):\n",
    "        break\n",
    "    print(\"5 x\", i+1, \"=\", 5*(i+1))\n",
    "    \n",
    "print(\"out of the loop\")"
   ]
  },
  {
   "cell_type": "code",
   "execution_count": 10,
   "id": "45ea89ef",
   "metadata": {},
   "outputs": [
    {
     "name": "stdout",
     "output_type": "stream",
     "text": [
      "5 x 1 =  5\n",
      "5 x 2 =  10\n",
      "5 x 3 =  15\n",
      "5 x 4 =  20\n",
      "5 x 5 =  25\n",
      "5 x 6 =  30\n",
      "5 x 7 =  35\n",
      "5 x 8 =  40\n",
      "5 x 9 =  45\n",
      "5 x 10 =  50\n",
      "5 x 11 =  55\n",
      "out of the loop\n"
     ]
    }
   ],
   "source": [
    "for i in range (12):\n",
    "    print(\"5 x\", i+1, \"= \", 5*(i+1))\n",
    "    if (i == 10):\n",
    "        break\n",
    "    \n",
    "print(\"out of the loop\")"
   ]
  },
  {
   "cell_type": "code",
   "execution_count": null,
   "id": "c87f3123",
   "metadata": {},
   "outputs": [],
   "source": []
  }
 ],
 "metadata": {
  "kernelspec": {
   "display_name": "Python 3 (ipykernel)",
   "language": "python",
   "name": "python3"
  },
  "language_info": {
   "codemirror_mode": {
    "name": "ipython",
    "version": 3
   },
   "file_extension": ".py",
   "mimetype": "text/x-python",
   "name": "python",
   "nbconvert_exporter": "python",
   "pygments_lexer": "ipython3",
   "version": "3.10.9"
  }
 },
 "nbformat": 4,
 "nbformat_minor": 5
}
