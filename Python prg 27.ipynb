{
 "cells": [
  {
   "cell_type": "markdown",
   "id": "2f194689",
   "metadata": {},
   "source": [
    "## for loop with else"
   ]
  },
  {
   "cell_type": "code",
   "execution_count": 1,
   "id": "1361b2ab",
   "metadata": {},
   "outputs": [
    {
     "name": "stdout",
     "output_type": "stream",
     "text": [
      "0\n",
      "1\n",
      "2\n",
      "3\n",
      "4\n",
      "sorry no i\n"
     ]
    }
   ],
   "source": [
    "for i in range(5):\n",
    "    print(i)\n",
    "    \n",
    "else:\n",
    "    print(\"sorry no i\")"
   ]
  },
  {
   "cell_type": "code",
   "execution_count": 2,
   "id": "d666624c",
   "metadata": {},
   "outputs": [
    {
     "name": "stdout",
     "output_type": "stream",
     "text": [
      "0\n",
      "1\n",
      "2\n",
      "3\n",
      "4\n"
     ]
    }
   ],
   "source": [
    "for i in range(5):\n",
    "    print(i)\n",
    "    \n",
    "    if i == 4:\n",
    "        break\n",
    "    \n",
    "else:\n",
    "    print(\"sorry no i\")"
   ]
  },
  {
   "cell_type": "code",
   "execution_count": 4,
   "id": "865bc1e7",
   "metadata": {},
   "outputs": [
    {
     "name": "stdout",
     "output_type": "stream",
     "text": [
      "0\n",
      "1\n",
      "2\n",
      "3\n"
     ]
    }
   ],
   "source": [
    "i = 0\n",
    "while i<7:\n",
    "\n",
    "    print(i)\n",
    "    i = i+1\n",
    "    \n",
    "    if i == 4:\n",
    "        break\n",
    "    \n",
    "else:\n",
    "    print(\"sorry no i\")"
   ]
  },
  {
   "cell_type": "code",
   "execution_count": 5,
   "id": "e66957f9",
   "metadata": {},
   "outputs": [
    {
     "name": "stdout",
     "output_type": "stream",
     "text": [
      "0\n",
      "1\n",
      "2\n",
      "3\n",
      "4\n",
      "5\n",
      "6\n",
      "sorry no i\n"
     ]
    }
   ],
   "source": [
    "i = 0\n",
    "while i<7:\n",
    "\n",
    "    print(i)\n",
    "    i = i+1\n",
    "    \n",
    "#     if i == 4:\n",
    "#         break\n",
    "    \n",
    "else:\n",
    "    print(\"sorry no i\")"
   ]
  },
  {
   "cell_type": "code",
   "execution_count": null,
   "id": "81f385c0",
   "metadata": {},
   "outputs": [],
   "source": []
  }
 ],
 "metadata": {
  "kernelspec": {
   "display_name": "Python 3 (ipykernel)",
   "language": "python",
   "name": "python3"
  },
  "language_info": {
   "codemirror_mode": {
    "name": "ipython",
    "version": 3
   },
   "file_extension": ".py",
   "mimetype": "text/x-python",
   "name": "python",
   "nbconvert_exporter": "python",
   "pygments_lexer": "ipython3",
   "version": "3.10.9"
  }
 },
 "nbformat": 4,
 "nbformat_minor": 5
}
