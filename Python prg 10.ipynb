{
 "cells": [
  {
   "cell_type": "markdown",
   "id": "a0c05ba9",
   "metadata": {},
   "source": [
    "## Conditional Operator"
   ]
  },
  {
   "cell_type": "code",
   "execution_count": 2,
   "id": "10c3f290",
   "metadata": {},
   "outputs": [
    {
     "name": "stdout",
     "output_type": "stream",
     "text": [
      "Enter your age18\n",
      "your age is:  18\n",
      "False\n",
      "True\n",
      "True\n",
      "False\n",
      "You can Drive\n"
     ]
    }
   ],
   "source": [
    "a = int(input(\"Enter your age\"))\n",
    "print(\"your age is: \", a)\n",
    "print(a>18)\n",
    "print(a<=18)\n",
    "print(a==18)\n",
    "print(a!=18)\n",
    "if (a>=18):\n",
    "    print(\"You can Drive\")\n",
    "else:\n",
    "    print(\"You cannot Drive\")"
   ]
  },
  {
   "cell_type": "code",
   "execution_count": 3,
   "id": "457dffea",
   "metadata": {},
   "outputs": [
    {
     "name": "stdout",
     "output_type": "stream",
     "text": [
      "Enter your age19\n",
      "your age is:  19\n",
      "True\n",
      "False\n",
      "False\n",
      "True\n",
      "You can Drive\n"
     ]
    }
   ],
   "source": [
    "a = int(input(\"Enter your age\"))\n",
    "print(\"your age is: \", a)\n",
    "print(a>18)\n",
    "print(a<=18)\n",
    "print(a==18)\n",
    "print(a!=18)\n",
    "if (a>=18):\n",
    "    print(\"You can Drive\")\n",
    "else:\n",
    "    print(\"You cannot Drive\")"
   ]
  },
  {
   "cell_type": "code",
   "execution_count": 4,
   "id": "c7675337",
   "metadata": {},
   "outputs": [
    {
     "name": "stdout",
     "output_type": "stream",
     "text": [
      "Enter your age17\n",
      "your age is:  17\n",
      "False\n",
      "True\n",
      "False\n",
      "True\n",
      "You cannot Drive\n"
     ]
    }
   ],
   "source": [
    "a = int(input(\"Enter your age\"))\n",
    "print(\"your age is: \", a)\n",
    "print(a>18)\n",
    "print(a<=18)\n",
    "print(a==18)\n",
    "print(a!=18)\n",
    "if (a>=18):\n",
    "    print(\"You can Drive\")\n",
    "else:\n",
    "    print(\"You cannot Drive\")"
   ]
  },
  {
   "cell_type": "code",
   "execution_count": 6,
   "id": "e47fa3d4",
   "metadata": {},
   "outputs": [
    {
     "name": "stdout",
     "output_type": "stream",
     "text": [
      "Enter a value of num: -5\n",
      "Number is Negative.\n"
     ]
    }
   ],
   "source": [
    "num = int(input(\"Enter a value of num: \"))\n",
    "if (num<0):\n",
    "    print(\"Number is Negative.\")\n",
    "elif (num == 0):\n",
    "    print(\"Number is Zero.\")\n",
    "else:\n",
    "    print(\"Number is Positive.\")"
   ]
  },
  {
   "cell_type": "code",
   "execution_count": 7,
   "id": "d287cf2b",
   "metadata": {},
   "outputs": [
    {
     "name": "stdout",
     "output_type": "stream",
     "text": [
      "Enter a value of num: 0\n",
      "Number is Zero.\n"
     ]
    }
   ],
   "source": [
    "num = int(input(\"Enter a value of num: \"))\n",
    "if (num<0):\n",
    "    print(\"Number is Negative.\")\n",
    "elif (num == 0):\n",
    "    print(\"Number is Zero.\")\n",
    "else:\n",
    "    print(\"Number is Positive.\")"
   ]
  },
  {
   "cell_type": "code",
   "execution_count": 8,
   "id": "7ae13c9c",
   "metadata": {},
   "outputs": [
    {
     "name": "stdout",
     "output_type": "stream",
     "text": [
      "Enter a value of num: 5\n",
      "Number is Positive.\n"
     ]
    }
   ],
   "source": [
    "num = int(input(\"Enter a value of num: \"))\n",
    "if (num<0):\n",
    "    print(\"Number is Negative.\")\n",
    "elif (num == 0):\n",
    "    print(\"Number is Zero.\")\n",
    "else:\n",
    "    print(\"Number is Positive.\")"
   ]
  },
  {
   "cell_type": "code",
   "execution_count": null,
   "id": "2bde46d4",
   "metadata": {},
   "outputs": [],
   "source": []
  }
 ],
 "metadata": {
  "kernelspec": {
   "display_name": "Python 3 (ipykernel)",
   "language": "python",
   "name": "python3"
  },
  "language_info": {
   "codemirror_mode": {
    "name": "ipython",
    "version": 3
   },
   "file_extension": ".py",
   "mimetype": "text/x-python",
   "name": "python",
   "nbconvert_exporter": "python",
   "pygments_lexer": "ipython3",
   "version": "3.10.9"
  }
 },
 "nbformat": 4,
 "nbformat_minor": 5
}
