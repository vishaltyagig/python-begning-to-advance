{
 "cells": [
  {
   "cell_type": "markdown",
   "id": "6a14fe2f",
   "metadata": {},
   "source": [
    "## if else statement"
   ]
  },
  {
   "cell_type": "code",
   "execution_count": 1,
   "id": "a40b534f",
   "metadata": {},
   "outputs": [
    {
     "name": "stdout",
     "output_type": "stream",
     "text": [
      "1\n",
      "2\n",
      "3\n"
     ]
    }
   ],
   "source": [
    "print(1)\n",
    "print(2)\n",
    "print(3)"
   ]
  },
  {
   "cell_type": "code",
   "execution_count": 2,
   "id": "cc0acfd3",
   "metadata": {},
   "outputs": [
    {
     "name": "stdout",
     "output_type": "stream",
     "text": [
      "D\n",
      "a\n",
      "d\n",
      "d\n",
      "a\n"
     ]
    }
   ],
   "source": [
    "name = \"Dadda\"\n",
    "for a in name:\n",
    "    print(a)"
   ]
  },
  {
   "cell_type": "code",
   "execution_count": 4,
   "id": "66c2b0bb",
   "metadata": {},
   "outputs": [
    {
     "name": "stdout",
     "output_type": "stream",
     "text": [
      "d\n",
      "This charachter is used many times\n",
      "a\n",
      "d\n",
      "This charachter is used many times\n",
      "d\n",
      "This charachter is used many times\n",
      "a\n"
     ]
    }
   ],
   "source": [
    "name = \"dadda\"\n",
    "for a in name:\n",
    "    print(a)\n",
    "    if (a=='d'):\n",
    "        print(\"This charachter is used many times\")"
   ]
  },
  {
   "cell_type": "code",
   "execution_count": 5,
   "id": "22285472",
   "metadata": {},
   "outputs": [
    {
     "name": "stdout",
     "output_type": "stream",
     "text": [
      "Red\n",
      "Green\n",
      "Blue\n",
      "Orange\n",
      "Yellow\n"
     ]
    }
   ],
   "source": [
    "colors = [\"Red\", \"Green\", \"Blue\", \"Orange\", \"Yellow\"]\n",
    "for color in colors:\n",
    "    print(color)"
   ]
  },
  {
   "cell_type": "code",
   "execution_count": 6,
   "id": "14351b25",
   "metadata": {},
   "outputs": [
    {
     "name": "stdout",
     "output_type": "stream",
     "text": [
      "Red\n",
      "Red\n",
      "Red\n",
      "Red\n",
      "Green\n",
      "Green\n",
      "Green\n",
      "Green\n",
      "Green\n",
      "Green\n",
      "Blue\n",
      "Blue\n",
      "Blue\n",
      "Blue\n",
      "Blue\n",
      "Orange\n",
      "Orange\n",
      "Orange\n",
      "Orange\n",
      "Orange\n",
      "Orange\n",
      "Orange\n",
      "Yellow\n",
      "Yellow\n",
      "Yellow\n",
      "Yellow\n",
      "Yellow\n",
      "Yellow\n",
      "Yellow\n"
     ]
    }
   ],
   "source": [
    "colors = [\"Red\", \"Green\", \"Blue\", \"Orange\", \"Yellow\"]\n",
    "for color in colors:\n",
    "    print(color)\n",
    "    for i in color:\n",
    "        print(color)"
   ]
  },
  {
   "cell_type": "code",
   "execution_count": 7,
   "id": "b4caaea5",
   "metadata": {},
   "outputs": [
    {
     "name": "stdout",
     "output_type": "stream",
     "text": [
      "Red\n",
      "R\n",
      "e\n",
      "d\n",
      "Green\n",
      "G\n",
      "r\n",
      "e\n",
      "e\n",
      "n\n",
      "Blue\n",
      "B\n",
      "l\n",
      "u\n",
      "e\n",
      "Orange\n",
      "O\n",
      "r\n",
      "a\n",
      "n\n",
      "g\n",
      "e\n",
      "Yellow\n",
      "Y\n",
      "e\n",
      "l\n",
      "l\n",
      "o\n",
      "w\n"
     ]
    }
   ],
   "source": [
    "colors = [\"Red\", \"Green\", \"Blue\", \"Orange\", \"Yellow\"]\n",
    "for color in colors:\n",
    "    print(color)\n",
    "    for i in color:\n",
    "        print(i)"
   ]
  },
  {
   "cell_type": "code",
   "execution_count": 8,
   "id": "340157a5",
   "metadata": {},
   "outputs": [
    {
     "name": "stdout",
     "output_type": "stream",
     "text": [
      "0\n",
      "1\n",
      "2\n",
      "3\n",
      "4\n"
     ]
    }
   ],
   "source": [
    "for t in range(5):\n",
    "    print(t)"
   ]
  },
  {
   "cell_type": "code",
   "execution_count": 9,
   "id": "f9954907",
   "metadata": {},
   "outputs": [
    {
     "name": "stdout",
     "output_type": "stream",
     "text": [
      "1\n",
      "2\n",
      "3\n",
      "4\n",
      "5\n"
     ]
    }
   ],
   "source": [
    "for t in range(5):\n",
    "    print(t + 1)"
   ]
  },
  {
   "cell_type": "code",
   "execution_count": 10,
   "id": "817ff876",
   "metadata": {},
   "outputs": [
    {
     "name": "stdout",
     "output_type": "stream",
     "text": [
      "1\n",
      "2\n",
      "3\n",
      "4\n"
     ]
    }
   ],
   "source": [
    "for t in range(1, 5):\n",
    "    print(t)"
   ]
  },
  {
   "cell_type": "code",
   "execution_count": 12,
   "id": "6367a2ed",
   "metadata": {},
   "outputs": [
    {
     "name": "stdout",
     "output_type": "stream",
     "text": [
      "2\n",
      "3\n",
      "4\n",
      "5\n",
      "6\n",
      "7\n",
      "8\n",
      "9\n"
     ]
    }
   ],
   "source": [
    "for t in range(1, 9):\n",
    "    print(t+1)"
   ]
  },
  {
   "cell_type": "code",
   "execution_count": 13,
   "id": "f63cd125",
   "metadata": {},
   "outputs": [
    {
     "name": "stdout",
     "output_type": "stream",
     "text": [
      "1\n",
      "2\n",
      "3\n",
      "4\n",
      "5\n",
      "6\n",
      "7\n",
      "8\n",
      "9\n",
      "10\n"
     ]
    }
   ],
   "source": [
    "for t in range(0, 10):\n",
    "    print(t+1)"
   ]
  },
  {
   "cell_type": "code",
   "execution_count": 14,
   "id": "57b8eeac",
   "metadata": {},
   "outputs": [
    {
     "name": "stdout",
     "output_type": "stream",
     "text": [
      "1\n",
      "3\n",
      "5\n",
      "7\n",
      "9\n"
     ]
    }
   ],
   "source": [
    "for t in range(0, 10, 2):\n",
    "    print(t+1)"
   ]
  },
  {
   "cell_type": "code",
   "execution_count": null,
   "id": "fb08f5f5",
   "metadata": {},
   "outputs": [],
   "source": []
  }
 ],
 "metadata": {
  "kernelspec": {
   "display_name": "Python 3 (ipykernel)",
   "language": "python",
   "name": "python3"
  },
  "language_info": {
   "codemirror_mode": {
    "name": "ipython",
    "version": 3
   },
   "file_extension": ".py",
   "mimetype": "text/x-python",
   "name": "python",
   "nbconvert_exporter": "python",
   "pygments_lexer": "ipython3",
   "version": "3.10.9"
  }
 },
 "nbformat": 4,
 "nbformat_minor": 5
}
