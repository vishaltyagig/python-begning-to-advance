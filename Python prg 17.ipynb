{
 "cells": [
  {
   "cell_type": "markdown",
   "id": "42e29afa",
   "metadata": {},
   "source": [
    "## List"
   ]
  },
  {
   "cell_type": "code",
   "execution_count": 1,
   "id": "5afe9269",
   "metadata": {},
   "outputs": [
    {
     "name": "stdout",
     "output_type": "stream",
     "text": [
      "[3, 5, 6]\n"
     ]
    }
   ],
   "source": [
    "marks = [3, 5, 6]\n",
    "print(marks)"
   ]
  },
  {
   "cell_type": "code",
   "execution_count": 2,
   "id": "256e24cf",
   "metadata": {},
   "outputs": [
    {
     "name": "stdout",
     "output_type": "stream",
     "text": [
      "<class 'list'>\n"
     ]
    }
   ],
   "source": [
    "print(type(marks))"
   ]
  },
  {
   "cell_type": "code",
   "execution_count": 3,
   "id": "88428de0",
   "metadata": {},
   "outputs": [
    {
     "name": "stdout",
     "output_type": "stream",
     "text": [
      "3\n"
     ]
    }
   ],
   "source": [
    "print(marks[0])"
   ]
  },
  {
   "cell_type": "code",
   "execution_count": 4,
   "id": "c111d45d",
   "metadata": {},
   "outputs": [
    {
     "name": "stdout",
     "output_type": "stream",
     "text": [
      "5\n"
     ]
    }
   ],
   "source": [
    "print(marks[1])"
   ]
  },
  {
   "cell_type": "code",
   "execution_count": 5,
   "id": "990bd8be",
   "metadata": {},
   "outputs": [
    {
     "name": "stdout",
     "output_type": "stream",
     "text": [
      "6\n"
     ]
    }
   ],
   "source": [
    "print(marks[2])"
   ]
  },
  {
   "cell_type": "markdown",
   "id": "f52156ec",
   "metadata": {},
   "source": [
    "#### agar kabhi bhi negative index mil jaye to use positive se minus kr do"
   ]
  },
  {
   "cell_type": "code",
   "execution_count": 7,
   "id": "e0c7200d",
   "metadata": {},
   "outputs": [
    {
     "name": "stdout",
     "output_type": "stream",
     "text": [
      "6\n",
      "6\n",
      "6\n",
      "6\n"
     ]
    }
   ],
   "source": [
    "marks = [3,5,6, \"Dadda\", True]\n",
    "print(marks[-3])                #negative index\n",
    "print(marks[len(marks)-3])      #negative index minus by positive index\n",
    "print(marks[5-3])               #negative index minus by positive index\n",
    "print(marks[2])                 #positive index"
   ]
  },
  {
   "cell_type": "code",
   "execution_count": 9,
   "id": "1f1ee173",
   "metadata": {},
   "outputs": [
    {
     "name": "stdout",
     "output_type": "stream",
     "text": [
      "yes it is present\n"
     ]
    }
   ],
   "source": [
    "if \"Dadda\" in marks:\n",
    "    print(\"yes it is present\")\n",
    "else:\n",
    "    print(\"it is not present\")"
   ]
  },
  {
   "cell_type": "code",
   "execution_count": 10,
   "id": "4371e730",
   "metadata": {},
   "outputs": [
    {
     "name": "stdout",
     "output_type": "stream",
     "text": [
      "it is not present\n"
     ]
    }
   ],
   "source": [
    "if \"6\" in marks:\n",
    "    print(\"yes it is present\")\n",
    "else:\n",
    "    print(\"it is not present\")"
   ]
  },
  {
   "cell_type": "code",
   "execution_count": 11,
   "id": "c9710cd6",
   "metadata": {},
   "outputs": [
    {
     "name": "stdout",
     "output_type": "stream",
     "text": [
      "yes it is present\n"
     ]
    }
   ],
   "source": [
    "if 6 in marks:\n",
    "    print(\"yes it is present\")\n",
    "else:\n",
    "    print(\"it is not present\")"
   ]
  },
  {
   "cell_type": "code",
   "execution_count": 13,
   "id": "c4718b86",
   "metadata": {},
   "outputs": [
    {
     "name": "stdout",
     "output_type": "stream",
     "text": [
      "[3, 5, 6, 'Dadda', True]\n",
      "[5, 6, 'Dadda']\n",
      "[5, 6, 'Dadda']\n",
      "[5, 'Dadda']\n"
     ]
    }
   ],
   "source": [
    "print(marks)\n",
    "print(marks[1:-1])\n",
    "print(marks[1:4])\n",
    "print(marks[1:4:2])"
   ]
  },
  {
   "cell_type": "code",
   "execution_count": 14,
   "id": "5e9b21b3",
   "metadata": {},
   "outputs": [
    {
     "name": "stdout",
     "output_type": "stream",
     "text": [
      "[0, 1, 4, 9, 16, 25, 36, 49, 64, 81]\n"
     ]
    }
   ],
   "source": [
    "lst = [i*i for i in range(10)]\n",
    "print(lst)"
   ]
  },
  {
   "cell_type": "code",
   "execution_count": 15,
   "id": "c90fc2a2",
   "metadata": {},
   "outputs": [
    {
     "name": "stdout",
     "output_type": "stream",
     "text": [
      "[0, 4, 16, 36, 64]\n"
     ]
    }
   ],
   "source": [
    "lst = [i*i for i in range(10) if i%2 == 0]\n",
    "print(lst)"
   ]
  },
  {
   "cell_type": "code",
   "execution_count": 16,
   "id": "9830ac47",
   "metadata": {},
   "outputs": [
    {
     "name": "stdout",
     "output_type": "stream",
     "text": [
      "[1, 9, 25, 49, 81]\n"
     ]
    }
   ],
   "source": [
    "lst = [i*i for i in range(10) if i%2 != 0]\n",
    "print(lst)"
   ]
  },
  {
   "cell_type": "code",
   "execution_count": null,
   "id": "8c4d8053",
   "metadata": {},
   "outputs": [],
   "source": []
  }
 ],
 "metadata": {
  "kernelspec": {
   "display_name": "Python 3 (ipykernel)",
   "language": "python",
   "name": "python3"
  },
  "language_info": {
   "codemirror_mode": {
    "name": "ipython",
    "version": 3
   },
   "file_extension": ".py",
   "mimetype": "text/x-python",
   "name": "python",
   "nbconvert_exporter": "python",
   "pygments_lexer": "ipython3",
   "version": "3.10.9"
  }
 },
 "nbformat": 4,
 "nbformat_minor": 5
}
