{
 "cells": [
  {
   "cell_type": "markdown",
   "id": "5c244821",
   "metadata": {},
   "source": [
    "## Tuple"
   ]
  },
  {
   "cell_type": "code",
   "execution_count": 1,
   "id": "d68225a5",
   "metadata": {},
   "outputs": [
    {
     "name": "stdout",
     "output_type": "stream",
     "text": [
      "<class 'tuple'> (1,)\n"
     ]
    }
   ],
   "source": [
    "tup = (1,)\n",
    "print(type(tup), tup)"
   ]
  },
  {
   "cell_type": "code",
   "execution_count": 2,
   "id": "9b65fddc",
   "metadata": {},
   "outputs": [
    {
     "name": "stdout",
     "output_type": "stream",
     "text": [
      "<class 'int'> 1\n"
     ]
    }
   ],
   "source": [
    "tup = (1)\n",
    "print(type(tup), tup)"
   ]
  },
  {
   "cell_type": "code",
   "execution_count": 3,
   "id": "8a281e62",
   "metadata": {},
   "outputs": [
    {
     "name": "stdout",
     "output_type": "stream",
     "text": [
      "<class 'tuple'> (1, 2, 3)\n"
     ]
    }
   ],
   "source": [
    "tup = (1,2,3)\n",
    "print(type(tup), tup)"
   ]
  },
  {
   "cell_type": "markdown",
   "id": "149be1d9",
   "metadata": {},
   "source": [
    "#### ye bhi list ki tarah almost similar hi hoti h but ise change nhi kr sakte h means ek baar value dedi to dedi us value ko baad m modify nhi kr sakte h"
   ]
  },
  {
   "cell_type": "code",
   "execution_count": null,
   "id": "1f7b4206",
   "metadata": {},
   "outputs": [],
   "source": []
  }
 ],
 "metadata": {
  "kernelspec": {
   "display_name": "Python 3 (ipykernel)",
   "language": "python",
   "name": "python3"
  },
  "language_info": {
   "codemirror_mode": {
    "name": "ipython",
    "version": 3
   },
   "file_extension": ".py",
   "mimetype": "text/x-python",
   "name": "python",
   "nbconvert_exporter": "python",
   "pygments_lexer": "ipython3",
   "version": "3.10.9"
  }
 },
 "nbformat": 4,
 "nbformat_minor": 5
}
