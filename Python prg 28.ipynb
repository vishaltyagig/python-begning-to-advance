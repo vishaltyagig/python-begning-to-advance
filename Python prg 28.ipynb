{
 "cells": [
  {
   "cell_type": "markdown",
   "id": "0a16e343",
   "metadata": {},
   "source": [
    "## Finally keyword"
   ]
  },
  {
   "cell_type": "code",
   "execution_count": 1,
   "id": "69ebe05a",
   "metadata": {},
   "outputs": [
    {
     "name": "stdout",
     "output_type": "stream",
     "text": [
      "enter the index: 5\n",
      "some error ocured\n"
     ]
    }
   ],
   "source": [
    "try:\n",
    "    l = [1,5,6,7]\n",
    "    i = int(input(\"enter the index: \"))\n",
    "    print(l[i])\n",
    "    \n",
    "except:\n",
    "    print(\"some error ocured\")"
   ]
  },
  {
   "cell_type": "code",
   "execution_count": 2,
   "id": "686097e2",
   "metadata": {},
   "outputs": [
    {
     "name": "stdout",
     "output_type": "stream",
     "text": [
      "enter the index: 2\n",
      "6\n",
      "I m always executed\n"
     ]
    }
   ],
   "source": [
    "try:\n",
    "    l = [1,5,6,7]\n",
    "    i = int(input(\"enter the index: \"))\n",
    "    print(l[i])\n",
    "    \n",
    "except:\n",
    "    print(\"some error ocured\")\n",
    "    \n",
    "finally:\n",
    "    print(\"I m always executed\")"
   ]
  },
  {
   "cell_type": "code",
   "execution_count": 3,
   "id": "112639b5",
   "metadata": {},
   "outputs": [
    {
     "name": "stdout",
     "output_type": "stream",
     "text": [
      "enter the index: fg\n",
      "some error ocured\n",
      "I m always executed\n"
     ]
    }
   ],
   "source": [
    "try:\n",
    "    l = [1,5,6,7]\n",
    "    i = int(input(\"enter the index: \"))\n",
    "    print(l[i])\n",
    "    \n",
    "except:\n",
    "    print(\"some error ocured\")\n",
    "    \n",
    "finally:\n",
    "    print(\"I m always executed\")"
   ]
  },
  {
   "cell_type": "code",
   "execution_count": 5,
   "id": "8c1a60ef",
   "metadata": {},
   "outputs": [
    {
     "name": "stdout",
     "output_type": "stream",
     "text": [
      "enter the index: 0\n",
      "1\n",
      "I m always executed\n",
      "1\n"
     ]
    }
   ],
   "source": [
    "def func1():\n",
    "    try:\n",
    "        l = [1,5,6,7]\n",
    "        i = int(input(\"enter the index: \"))\n",
    "        print(l[i])\n",
    "        return 1\n",
    "\n",
    "    except:\n",
    "        print(\"some error ocured\")\n",
    "        return 0\n",
    "\n",
    "    finally:\n",
    "        print(\"I m always executed\")\n",
    "        \n",
    "x = func1()\n",
    "print(x)"
   ]
  },
  {
   "cell_type": "code",
   "execution_count": 6,
   "id": "baaeea58",
   "metadata": {},
   "outputs": [
    {
     "name": "stdout",
     "output_type": "stream",
     "text": [
      "enter the index: dfgh\n",
      "some error ocured\n",
      "I m always executed\n",
      "0\n"
     ]
    }
   ],
   "source": [
    "def func1():\n",
    "    try:\n",
    "        l = [1,5,6,7]\n",
    "        i = int(input(\"enter the index: \"))\n",
    "        print(l[i])\n",
    "        return 1\n",
    "\n",
    "    except:\n",
    "        print(\"some error ocured\")\n",
    "        return 0\n",
    "\n",
    "    finally:\n",
    "        print(\"I m always executed\")\n",
    "        \n",
    "x = func1()\n",
    "print(x)"
   ]
  },
  {
   "cell_type": "code",
   "execution_count": null,
   "id": "e73fb52b",
   "metadata": {},
   "outputs": [],
   "source": []
  }
 ],
 "metadata": {
  "kernelspec": {
   "display_name": "Python 3 (ipykernel)",
   "language": "python",
   "name": "python3"
  },
  "language_info": {
   "codemirror_mode": {
    "name": "ipython",
    "version": 3
   },
   "file_extension": ".py",
   "mimetype": "text/x-python",
   "name": "python",
   "nbconvert_exporter": "python",
   "pygments_lexer": "ipython3",
   "version": "3.10.9"
  }
 },
 "nbformat": 4,
 "nbformat_minor": 5
}
