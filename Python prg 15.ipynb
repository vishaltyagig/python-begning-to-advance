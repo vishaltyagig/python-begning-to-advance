{
 "cells": [
  {
   "cell_type": "markdown",
   "id": "7b3d2ef5",
   "metadata": {},
   "source": [
    "## Function"
   ]
  },
  {
   "cell_type": "code",
   "execution_count": 1,
   "id": "de24685f",
   "metadata": {},
   "outputs": [
    {
     "name": "stdout",
     "output_type": "stream",
     "text": [
      "4.235294117647059\n"
     ]
    }
   ],
   "source": [
    "a = 9\n",
    "b = 8\n",
    "gmean1 = (a*b)/(a+b)\n",
    "print(gmean1)"
   ]
  },
  {
   "cell_type": "code",
   "execution_count": 3,
   "id": "30feb30c",
   "metadata": {},
   "outputs": [
    {
     "name": "stdout",
     "output_type": "stream",
     "text": [
      "4.235294117647059\n",
      "3.7333333333333334\n"
     ]
    }
   ],
   "source": [
    "a = 9\n",
    "b = 8\n",
    "gmean1 = (a*b)/(a+b)\n",
    "print(gmean1)\n",
    "\n",
    "c = 7\n",
    "d = 8\n",
    "gmean2 = (c*d)/(c+d)\n",
    "print(gmean2)"
   ]
  },
  {
   "cell_type": "code",
   "execution_count": 4,
   "id": "749a39c7",
   "metadata": {},
   "outputs": [
    {
     "name": "stdout",
     "output_type": "stream",
     "text": [
      "4.235294117647059\n",
      "3.7333333333333334\n"
     ]
    }
   ],
   "source": [
    "def calculategmean(a,b):\n",
    "    mean = (a*b)/(a+b)\n",
    "    print(mean)\n",
    "    \n",
    "a = 9\n",
    "b = 8\n",
    "# gmean1 = (a*b)/(a+b)\n",
    "# print(gmean1)\n",
    "calculategmean(a,b)\n",
    "\n",
    "\n",
    "c = 7\n",
    "d = 8\n",
    "# gmean2 = (c*d)/(c+d)\n",
    "# print(gmean2)\n",
    "calculategmean(c,d)"
   ]
  },
  {
   "cell_type": "code",
   "execution_count": 6,
   "id": "4b8906a5",
   "metadata": {},
   "outputs": [
    {
     "name": "stdout",
     "output_type": "stream",
     "text": [
      "4.235294117647059\n",
      "First num is greater\n",
      "3.7333333333333334\n",
      "Second num is greater or equal\n"
     ]
    }
   ],
   "source": [
    "# for findeing gmean\n",
    "def calculategmean(a,b):\n",
    "    mean = (a*b)/(a+b)\n",
    "    print(mean)\n",
    "    \n",
    "    \n",
    "# for finding greater number\n",
    "def isgreater(a,b):\n",
    "    if(a>b):\n",
    "        print(\"First num is greater\")\n",
    "    else:\n",
    "        print(\"Second num is greater or equal\")\n",
    "    \n",
    "a = 9\n",
    "b = 8\n",
    "# gmean1 = (a*b)/(a+b)\n",
    "# print(gmean1)\n",
    "calculategmean(a,b)\n",
    "isgreater(a,b)\n",
    "\n",
    "\n",
    "c = 7\n",
    "d = 8\n",
    "# gmean2 = (c*d)/(c+d)\n",
    "# print(gmean2)\n",
    "calculategmean(c,d)\n",
    "isgreater(c,d)"
   ]
  },
  {
   "cell_type": "code",
   "execution_count": 7,
   "id": "f3b195ab",
   "metadata": {},
   "outputs": [
    {
     "name": "stdout",
     "output_type": "stream",
     "text": [
      "4.235294117647059\n",
      "First num is greater\n",
      "3.7333333333333334\n",
      "Second num is greater or equal\n"
     ]
    }
   ],
   "source": [
    "# for findeing gmean\n",
    "def calculategmean(a,b):\n",
    "    mean = (a*b)/(a+b)\n",
    "    print(mean)\n",
    "    \n",
    "    \n",
    "# for finding greater number\n",
    "def isgreater(a,b):\n",
    "    if(a>b):\n",
    "        print(\"First num is greater\")\n",
    "    else:\n",
    "        print(\"Second num is greater or equal\")\n",
    "        \n",
    "# for findind lesser number\n",
    "def islesser(a,b):\n",
    "    pass\n",
    "    \n",
    "a = 9\n",
    "b = 8\n",
    "# gmean1 = (a*b)/(a+b)\n",
    "# print(gmean1)\n",
    "calculategmean(a,b)\n",
    "isgreater(a,b)\n",
    "\n",
    "\n",
    "c = 7\n",
    "d = 8\n",
    "# gmean2 = (c*d)/(c+d)\n",
    "# print(gmean2)\n",
    "calculategmean(c,d)\n",
    "isgreater(c,d)"
   ]
  },
  {
   "cell_type": "code",
   "execution_count": 8,
   "id": "35fce9e0",
   "metadata": {},
   "outputs": [
    {
     "name": "stdout",
     "output_type": "stream",
     "text": [
      "hello Dadda Tyagi\n"
     ]
    }
   ],
   "source": [
    "def name(fname,lname):\n",
    "    print(\"hello\",fname,lname)\n",
    "    \n",
    "name(\"Dadda\", \"Tyagi\")"
   ]
  },
  {
   "cell_type": "code",
   "execution_count": null,
   "id": "df2f63ac",
   "metadata": {},
   "outputs": [],
   "source": []
  }
 ],
 "metadata": {
  "kernelspec": {
   "display_name": "Python 3 (ipykernel)",
   "language": "python",
   "name": "python3"
  },
  "language_info": {
   "codemirror_mode": {
    "name": "ipython",
    "version": 3
   },
   "file_extension": ".py",
   "mimetype": "text/x-python",
   "name": "python",
   "nbconvert_exporter": "python",
   "pygments_lexer": "ipython3",
   "version": "3.10.9"
  }
 },
 "nbformat": 4,
 "nbformat_minor": 5
}
