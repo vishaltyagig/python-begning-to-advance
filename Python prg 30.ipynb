{
 "cells": [
  {
   "cell_type": "markdown",
   "id": "c290c988",
   "metadata": {},
   "source": [
    "## if name == main"
   ]
  },
  {
   "cell_type": "code",
   "execution_count": 1,
   "id": "633ef1ea",
   "metadata": {},
   "outputs": [
    {
     "name": "stdout",
     "output_type": "stream",
     "text": [
      "Hey you are welcome from Tyagi\n"
     ]
    }
   ],
   "source": [
    "def welcome():\n",
    "    print(\"Hey you are welcome from Tyagi\")\n",
    "    \n",
    "welcome()"
   ]
  },
  {
   "cell_type": "code",
   "execution_count": 4,
   "id": "2a8dc587",
   "metadata": {},
   "outputs": [
    {
     "ename": "SyntaxError",
     "evalue": "invalid syntax (692298883.py, line 5)",
     "output_type": "error",
     "traceback": [
      "\u001b[1;36m  Cell \u001b[1;32mIn[4], line 5\u001b[1;36m\u001b[0m\n\u001b[1;33m    if__name__== \"__main__\":\u001b[0m\n\u001b[1;37m                           ^\u001b[0m\n\u001b[1;31mSyntaxError\u001b[0m\u001b[1;31m:\u001b[0m invalid syntax\n"
     ]
    }
   ],
   "source": [
    "def welcome():\n",
    "    print(\"Hey you are welcome from Tyagi\")\n",
    "\n",
    "print(__name__)    \n",
    "if__name__== \"__main__\":\n",
    "    welcome()"
   ]
  },
  {
   "cell_type": "markdown",
   "id": "ad80777f",
   "metadata": {},
   "source": [
    "### iska main use ye hota ki agra kahi hmm file (python prg 30) ko use kare or wo direct wahan jakar run ho jab hmm command de tabhi run ho to iske liye hum if__name__ == \"__main__\" ka use karte h"
   ]
  },
  {
   "cell_type": "code",
   "execution_count": null,
   "id": "d3faee73",
   "metadata": {},
   "outputs": [],
   "source": []
  }
 ],
 "metadata": {
  "kernelspec": {
   "display_name": "Python 3 (ipykernel)",
   "language": "python",
   "name": "python3"
  },
  "language_info": {
   "codemirror_mode": {
    "name": "ipython",
    "version": 3
   },
   "file_extension": ".py",
   "mimetype": "text/x-python",
   "name": "python",
   "nbconvert_exporter": "python",
   "pygments_lexer": "ipython3",
   "version": "3.10.9"
  }
 },
 "nbformat": 4,
 "nbformat_minor": 5
}
