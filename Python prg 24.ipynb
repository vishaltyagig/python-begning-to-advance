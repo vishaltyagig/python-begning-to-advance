{
 "cells": [
  {
   "cell_type": "markdown",
   "id": "b9938022",
   "metadata": {},
   "source": [
    "## Set Methods"
   ]
  },
  {
   "cell_type": "code",
   "execution_count": 1,
   "id": "c998ce29",
   "metadata": {},
   "outputs": [
    {
     "name": "stdout",
     "output_type": "stream",
     "text": [
      "{1, 2, 3, 5, 6, 7}\n",
      "{1, 2, 3, 5, 6, 7} {3, 6, 7}\n"
     ]
    }
   ],
   "source": [
    "s1 = {1,2,5,6}\n",
    "s2 = {3,6,7}\n",
    "print(s1.union(s2))\n",
    "s1.update(s2)\n",
    "print(s1, s2)"
   ]
  },
  {
   "cell_type": "code",
   "execution_count": 2,
   "id": "9d30fce5",
   "metadata": {},
   "outputs": [
    {
     "name": "stdout",
     "output_type": "stream",
     "text": [
      "{'gurugram', 'delhi'}\n"
     ]
    }
   ],
   "source": [
    "cities = {\"delhi\", \"gurugram\", \"noida\", \"mumbai\"}\n",
    "cities2 = {\"delhi\", \"agra\", \"meeruth\", \"gurugram\"}\n",
    "cities3 = cities.intersection(cities2)\n",
    "print(cities3)"
   ]
  },
  {
   "cell_type": "code",
   "execution_count": 3,
   "id": "52dccdfa",
   "metadata": {},
   "outputs": [
    {
     "name": "stdout",
     "output_type": "stream",
     "text": [
      "{'mumbai', 'noida', 'meeruth', 'gurugram', 'delhi', 'agra'}\n"
     ]
    }
   ],
   "source": [
    "cities = {\"delhi\", \"gurugram\", \"noida\", \"mumbai\"}\n",
    "cities2 = {\"delhi\", \"agra\", \"meeruth\", \"gurugram\"}\n",
    "cities3 = cities.union(cities2)\n",
    "print(cities3)"
   ]
  },
  {
   "cell_type": "code",
   "execution_count": 4,
   "id": "a268d2ea",
   "metadata": {},
   "outputs": [
    {
     "name": "stdout",
     "output_type": "stream",
     "text": [
      "None\n"
     ]
    }
   ],
   "source": [
    "cities = {\"delhi\", \"gurugram\", \"noida\", \"mumbai\"}\n",
    "cities2 = {\"delhi\", \"agra\", \"meeruth\", \"gurugram\"}\n",
    "cities3 = cities.intersection_update(cities2)\n",
    "print(cities3)"
   ]
  },
  {
   "cell_type": "code",
   "execution_count": 5,
   "id": "d8369651",
   "metadata": {},
   "outputs": [
    {
     "name": "stdout",
     "output_type": "stream",
     "text": [
      "{'mumbai', 'noida', 'meeruth', 'agra'}\n"
     ]
    }
   ],
   "source": [
    "cities = {\"delhi\", \"gurugram\", \"noida\", \"mumbai\"}\n",
    "cities2 = {\"delhi\", \"agra\", \"meeruth\", \"gurugram\"}\n",
    "cities3 = cities.symmetric_difference(cities2)\n",
    "print(cities3)"
   ]
  },
  {
   "cell_type": "code",
   "execution_count": 6,
   "id": "b64b3694",
   "metadata": {},
   "outputs": [
    {
     "name": "stdout",
     "output_type": "stream",
     "text": [
      "{'mumbai', 'noida'}\n"
     ]
    }
   ],
   "source": [
    "cities = {\"delhi\", \"gurugram\", \"noida\", \"mumbai\"}\n",
    "cities2 = {\"delhi\", \"agra\", \"meeruth\", \"gurugram\"}\n",
    "cities3 = cities.difference(cities2)\n",
    "print(cities3)"
   ]
  },
  {
   "cell_type": "code",
   "execution_count": 7,
   "id": "72e93f98",
   "metadata": {},
   "outputs": [
    {
     "name": "stdout",
     "output_type": "stream",
     "text": [
      "{'gurugram', 'delhi'}\n"
     ]
    }
   ],
   "source": [
    "cities = {\"delhi\", \"gurugram\", \"noida\", \"mumbai\"}\n",
    "cities2 = {\"delhi\", \"agra\", \"meeruth\", \"gurugram\"}\n",
    "cities3 = cities.intersection(cities2)\n",
    "print(cities3)"
   ]
  },
  {
   "cell_type": "code",
   "execution_count": null,
   "id": "1686d761",
   "metadata": {},
   "outputs": [],
   "source": []
  }
 ],
 "metadata": {
  "kernelspec": {
   "display_name": "Python 3 (ipykernel)",
   "language": "python",
   "name": "python3"
  },
  "language_info": {
   "codemirror_mode": {
    "name": "ipython",
    "version": 3
   },
   "file_extension": ".py",
   "mimetype": "text/x-python",
   "name": "python",
   "nbconvert_exporter": "python",
   "pygments_lexer": "ipython3",
   "version": "3.10.9"
  }
 },
 "nbformat": 4,
 "nbformat_minor": 5
}
