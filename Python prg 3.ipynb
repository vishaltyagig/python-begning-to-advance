{
 "cells": [
  {
   "cell_type": "markdown",
   "id": "98b78763",
   "metadata": {},
   "source": [
    "## Variable and data types"
   ]
  },
  {
   "cell_type": "code",
   "execution_count": 2,
   "id": "1dc0d8c9",
   "metadata": {},
   "outputs": [
    {
     "name": "stdout",
     "output_type": "stream",
     "text": [
      "9\n",
      "The type of a is:  <class 'int'>\n",
      "The type of b is:  <class 'float'>\n",
      "The type of a is:  <class 'str'>\n",
      "The type of a is:  <class 'NoneType'>\n",
      "The type of a is:  <class 'int'>\n"
     ]
    }
   ],
   "source": [
    "a = 1\n",
    "b = 2.5\n",
    "c= \"Dadda Tyagi\"\n",
    "d = None\n",
    "e = 8\n",
    "print(a+e)\n",
    "print(\"The type of a is: \",type(a))\n",
    "print(\"The type of b is: \",type(b))\n",
    "print(\"The type of a is: \",type(c))\n",
    "print(\"The type of a is: \",type(d))\n",
    "print(\"The type of a is: \",type(e))"
   ]
  },
  {
   "cell_type": "code",
   "execution_count": null,
   "id": "a96ce678",
   "metadata": {},
   "outputs": [],
   "source": []
  }
 ],
 "metadata": {
  "kernelspec": {
   "display_name": "Python 3 (ipykernel)",
   "language": "python",
   "name": "python3"
  },
  "language_info": {
   "codemirror_mode": {
    "name": "ipython",
    "version": 3
   },
   "file_extension": ".py",
   "mimetype": "text/x-python",
   "name": "python",
   "nbconvert_exporter": "python",
   "pygments_lexer": "ipython3",
   "version": "3.10.9"
  }
 },
 "nbformat": 4,
 "nbformat_minor": 5
}
