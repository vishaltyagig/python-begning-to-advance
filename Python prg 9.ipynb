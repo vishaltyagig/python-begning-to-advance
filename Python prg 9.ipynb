{
 "cells": [
  {
   "cell_type": "markdown",
   "id": "be9152dc",
   "metadata": {},
   "source": [
    "## Conditional Operator"
   ]
  },
  {
   "cell_type": "code",
   "execution_count": 1,
   "id": "a6be03cc",
   "metadata": {},
   "outputs": [
    {
     "name": "stdout",
     "output_type": "stream",
     "text": [
      "Enter your age25\n",
      "your age is:  25\n"
     ]
    }
   ],
   "source": [
    "a = int(input(\"Enter your age\"))\n",
    "print(\"your age is: \", a)"
   ]
  },
  {
   "cell_type": "code",
   "execution_count": 2,
   "id": "0457f909",
   "metadata": {},
   "outputs": [
    {
     "name": "stdout",
     "output_type": "stream",
     "text": [
      "Enter your age25\n",
      "your age is:  25\n",
      "You can Drive\n"
     ]
    }
   ],
   "source": [
    "a = int(input(\"Enter your age\"))\n",
    "print(\"your age is: \", a)\n",
    "\n",
    "if (a>=18):\n",
    "    print(\"You can Drive\")\n",
    "else:\n",
    "    print(\"You cannot Drive\")"
   ]
  },
  {
   "cell_type": "code",
   "execution_count": 3,
   "id": "8798ffb2",
   "metadata": {},
   "outputs": [
    {
     "name": "stdout",
     "output_type": "stream",
     "text": [
      "Enter your age18\n",
      "your age is:  18\n",
      "You can Drive\n"
     ]
    }
   ],
   "source": [
    "a = int(input(\"Enter your age\"))\n",
    "print(\"your age is: \", a)\n",
    "\n",
    "if (a>=18):\n",
    "    print(\"You can Drive\")\n",
    "else:\n",
    "    print(\"You cannot Drive\")"
   ]
  },
  {
   "cell_type": "code",
   "execution_count": 4,
   "id": "b5e346f5",
   "metadata": {},
   "outputs": [
    {
     "name": "stdout",
     "output_type": "stream",
     "text": [
      "Enter your age19\n",
      "your age is:  19\n",
      "You can Drive\n"
     ]
    }
   ],
   "source": [
    "a = int(input(\"Enter your age\"))\n",
    "print(\"your age is: \", a)\n",
    "\n",
    "if (a>=18):\n",
    "    print(\"You can Drive\")\n",
    "else:\n",
    "    print(\"You cannot Drive\")"
   ]
  },
  {
   "cell_type": "code",
   "execution_count": 5,
   "id": "ed7802be",
   "metadata": {},
   "outputs": [
    {
     "name": "stdout",
     "output_type": "stream",
     "text": [
      "Enter your age15\n",
      "your age is:  15\n",
      "You cannot Drive\n"
     ]
    }
   ],
   "source": [
    "a = int(input(\"Enter your age\"))\n",
    "print(\"your age is: \", a)\n",
    "\n",
    "if (a>=18):\n",
    "    print(\"You can Drive\")\n",
    "else:\n",
    "    print(\"You cannot Drive\")"
   ]
  },
  {
   "cell_type": "code",
   "execution_count": null,
   "id": "9d5d3e21",
   "metadata": {},
   "outputs": [],
   "source": []
  }
 ],
 "metadata": {
  "kernelspec": {
   "display_name": "Python 3 (ipykernel)",
   "language": "python",
   "name": "python3"
  },
  "language_info": {
   "codemirror_mode": {
    "name": "ipython",
    "version": 3
   },
   "file_extension": ".py",
   "mimetype": "text/x-python",
   "name": "python",
   "nbconvert_exporter": "python",
   "pygments_lexer": "ipython3",
   "version": "3.10.9"
  }
 },
 "nbformat": 4,
 "nbformat_minor": 5
}
