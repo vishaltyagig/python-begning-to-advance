{
 "cells": [
  {
   "cell_type": "markdown",
   "id": "28fd4ade",
   "metadata": {},
   "source": [
    "## set"
   ]
  },
  {
   "cell_type": "code",
   "execution_count": 1,
   "id": "36381315",
   "metadata": {},
   "outputs": [
    {
     "name": "stdout",
     "output_type": "stream",
     "text": [
      "{2, 3, 4, 5, 6}\n"
     ]
    }
   ],
   "source": [
    "s = {2,4,5,3,6}\n",
    "print(s)"
   ]
  },
  {
   "cell_type": "code",
   "execution_count": 2,
   "id": "1785682e",
   "metadata": {},
   "outputs": [
    {
     "name": "stdout",
     "output_type": "stream",
     "text": [
      "{'Tyagi', 2.5, 3, 2, 21, 6}\n"
     ]
    }
   ],
   "source": [
    "info = {\"Tyagi\", 2, 6, 3, 2.5, 21}\n",
    "print(info)"
   ]
  },
  {
   "cell_type": "code",
   "execution_count": 3,
   "id": "0f5e945f",
   "metadata": {},
   "outputs": [
    {
     "name": "stdout",
     "output_type": "stream",
     "text": [
      "{'Tyagi', 2, 2.5, 3, 21, 6}\n"
     ]
    }
   ],
   "source": [
    "info = {\"Tyagi\", 2, 6, 3, 2.5, 21}\n",
    "print(info)"
   ]
  },
  {
   "cell_type": "code",
   "execution_count": 4,
   "id": "641ccc94",
   "metadata": {},
   "outputs": [
    {
     "name": "stdout",
     "output_type": "stream",
     "text": [
      "{'Tyagi', 2, 2.5, 3, 21, 6}\n"
     ]
    }
   ],
   "source": [
    "info = {\"Tyagi\", 2, 6, 3, 2.5, 21}\n",
    "print(info)"
   ]
  },
  {
   "cell_type": "markdown",
   "id": "141befeb",
   "metadata": {},
   "source": [
    "### it gives every time a new combination"
   ]
  },
  {
   "cell_type": "code",
   "execution_count": null,
   "id": "f03af22c",
   "metadata": {},
   "outputs": [],
   "source": []
  }
 ],
 "metadata": {
  "kernelspec": {
   "display_name": "Python 3 (ipykernel)",
   "language": "python",
   "name": "python3"
  },
  "language_info": {
   "codemirror_mode": {
    "name": "ipython",
    "version": 3
   },
   "file_extension": ".py",
   "mimetype": "text/x-python",
   "name": "python",
   "nbconvert_exporter": "python",
   "pygments_lexer": "ipython3",
   "version": "3.10.9"
  }
 },
 "nbformat": 4,
 "nbformat_minor": 5
}
