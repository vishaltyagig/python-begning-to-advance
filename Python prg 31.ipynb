{
 "cells": [
  {
   "cell_type": "markdown",
   "id": "697ed003",
   "metadata": {},
   "source": [
    "## OS Module"
   ]
  },
  {
   "cell_type": "markdown",
   "id": "92ece48d",
   "metadata": {},
   "source": [
    "### OS Module ki help se hum kafi cheeze automate kr sakte h jo ki munally hoti h \n",
    "\n",
    "### exp agar hmm chatye h ki ki apne system ki har file m ek .py ya .jpg or anything else kuch bhi add karna chate h to easily is module ki help se wo hmm kar sakte h"
   ]
  },
  {
   "cell_type": "code",
   "execution_count": 1,
   "id": "77c1543e",
   "metadata": {},
   "outputs": [
    {
     "name": "stdout",
     "output_type": "stream",
     "text": [
      "Current working directory: C:\\Users\\hp\\python for data science by ankit sir\\Python Program every day\n"
     ]
    }
   ],
   "source": [
    "import os \n",
    "cwd = os.getcwd() \n",
    "print(\"Current working directory:\", cwd) "
   ]
  },
  {
   "cell_type": "code",
   "execution_count": 2,
   "id": "0f637b4c",
   "metadata": {},
   "outputs": [
    {
     "name": "stdout",
     "output_type": "stream",
     "text": [
      "Current working directory before\n",
      "C:\\Users\\hp\\python for data science by ankit sir\\Python Program every day\n",
      "\n",
      "Current working directory before\n",
      "C:\\Users\\hp\\python for data science by ankit sir\n",
      "\n"
     ]
    }
   ],
   "source": [
    "import os \n",
    "def current_path(): \n",
    "    print(\"Current working directory before\") \n",
    "    print(os.getcwd()) \n",
    "    print() \n",
    "current_path() \n",
    "os.chdir('../') \n",
    "current_path() "
   ]
  },
  {
   "cell_type": "code",
   "execution_count": 3,
   "id": "299b260b",
   "metadata": {},
   "outputs": [
    {
     "name": "stdout",
     "output_type": "stream",
     "text": [
      "Files and directories in ' / ' :\n",
      "['$Recycle.Bin', '$WinREAgent', 'Documents and Settings', 'DumpStack.log.tmp', 'hiberfil.sys', 'hp', 'OneDriveTemp', 'pagefile.sys', 'PerfLogs', 'Program Files', 'Program Files (x86)', 'ProgramData', 'Recovery', 'swapfile.sys', 'System Volume Information', 'System.sav', 'Users', 'Windows', 'xampp']\n"
     ]
    }
   ],
   "source": [
    "import os \n",
    "path = \"/\"\n",
    "dir_list = os.listdir(path) \n",
    "print(\"Files and directories in '\", path, \"' :\") \n",
    "print(dir_list) "
   ]
  },
  {
   "cell_type": "code",
   "execution_count": 4,
   "id": "b13ef4da",
   "metadata": {},
   "outputs": [
    {
     "name": "stdout",
     "output_type": "stream",
     "text": [
      "nt\n"
     ]
    }
   ],
   "source": [
    "import os\n",
    "print(os.name)"
   ]
  },
  {
   "cell_type": "code",
   "execution_count": 5,
   "id": "b1218e9b",
   "metadata": {},
   "outputs": [
    {
     "name": "stdout",
     "output_type": "stream",
     "text": [
      "nt\n"
     ]
    }
   ],
   "source": [
    "import os\n",
    "print(os.name)"
   ]
  },
  {
   "cell_type": "code",
   "execution_count": null,
   "id": "88f44828",
   "metadata": {},
   "outputs": [],
   "source": []
  }
 ],
 "metadata": {
  "kernelspec": {
   "display_name": "Python 3 (ipykernel)",
   "language": "python",
   "name": "python3"
  },
  "language_info": {
   "codemirror_mode": {
    "name": "ipython",
    "version": 3
   },
   "file_extension": ".py",
   "mimetype": "text/x-python",
   "name": "python",
   "nbconvert_exporter": "python",
   "pygments_lexer": "ipython3",
   "version": "3.10.9"
  }
 },
 "nbformat": 4,
 "nbformat_minor": 5
}
