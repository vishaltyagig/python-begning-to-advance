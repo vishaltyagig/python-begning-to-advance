{
 "cells": [
  {
   "cell_type": "markdown",
   "id": "1458e752",
   "metadata": {},
   "source": [
    "## Dictonary Methods"
   ]
  },
  {
   "cell_type": "code",
   "execution_count": 1,
   "id": "96b3d723",
   "metadata": {},
   "outputs": [
    {
     "name": "stdout",
     "output_type": "stream",
     "text": [
      "{111: 45, 112: 55, 113: 85, 114: 91, 115: 85, 116: 72, 211: 67, 212: 76, 213: 80}\n"
     ]
    }
   ],
   "source": [
    "emp1 = {111: 45, 112: 55, 113: 85, 114: 91, 115: 85, 116: 72}\n",
    "emp2 = {211: 67, 212: 76, 213: 80}\n",
    "\n",
    "emp1.update(emp2)\n",
    "print(emp1)"
   ]
  },
  {
   "cell_type": "code",
   "execution_count": 4,
   "id": "aea6027c",
   "metadata": {},
   "outputs": [
    {
     "name": "stdout",
     "output_type": "stream",
     "text": [
      "{}\n"
     ]
    }
   ],
   "source": [
    "emp1 = {111: 45, 112: 55, 113: 85, 114: 91, 115: 85, 116: 72}\n",
    "emp2 = {211: 67, 212: 76, 213: 80}\n",
    "\n",
    "emp1.clear()\n",
    "print(emp1)"
   ]
  },
  {
   "cell_type": "code",
   "execution_count": 5,
   "id": "57162882",
   "metadata": {},
   "outputs": [
    {
     "name": "stdout",
     "output_type": "stream",
     "text": [
      "{111: 45, 112: 55, 113: 85, 114: 91, 115: 85, 116: 72}\n"
     ]
    }
   ],
   "source": [
    "emp1 = {111: 45, 112: 55, 113: 85, 114: 91, 115: 85, 116: 72}\n",
    "emp2 = {211: 67, 212: 76, 213: 80}\n",
    "\n",
    "emp1.clear\n",
    "print(emp1)"
   ]
  },
  {
   "cell_type": "code",
   "execution_count": 7,
   "id": "d3a085de",
   "metadata": {},
   "outputs": [
    {
     "name": "stdout",
     "output_type": "stream",
     "text": [
      "{}\n",
      "{}\n"
     ]
    }
   ],
   "source": [
    "emp1 = {111: 45, 112: 55, 113: 85, 114: 91, 115: 85, 116: 72}\n",
    "emp2 = {211: 67, 212: 76, 213: 80}\n",
    "\n",
    "emp1.clear()\n",
    "print(emp1)\n",
    "\n",
    "empt = {}\n",
    "print(empt)"
   ]
  },
  {
   "cell_type": "code",
   "execution_count": 8,
   "id": "10099bb9",
   "metadata": {},
   "outputs": [
    {
     "name": "stdout",
     "output_type": "stream",
     "text": [
      "{112: 55, 113: 85, 114: 91, 115: 85, 116: 72}\n"
     ]
    }
   ],
   "source": [
    "emp1 = {111: 45, 112: 55, 113: 85, 114: 91, 115: 85, 116: 72}\n",
    "emp2 = {211: 67, 212: 76, 213: 80}\n",
    "\n",
    "emp1.pop(111)\n",
    "print(emp1)"
   ]
  },
  {
   "cell_type": "code",
   "execution_count": 9,
   "id": "38945201",
   "metadata": {},
   "outputs": [
    {
     "name": "stdout",
     "output_type": "stream",
     "text": [
      "{111: 45, 112: 55, 113: 85, 114: 91, 115: 85}\n"
     ]
    }
   ],
   "source": [
    "emp1 = {111: 45, 112: 55, 113: 85, 114: 91, 115: 85, 116: 72}\n",
    "emp2 = {211: 67, 212: 76, 213: 80}\n",
    "\n",
    "emp1.popitem()\n",
    "print(emp1)"
   ]
  },
  {
   "cell_type": "code",
   "execution_count": 10,
   "id": "792f3b84",
   "metadata": {},
   "outputs": [
    {
     "name": "stdout",
     "output_type": "stream",
     "text": [
      "{112: 55, 113: 85, 114: 91, 115: 85}\n"
     ]
    }
   ],
   "source": [
    "emp1 = {111: 45, 112: 55, 113: 85, 114: 91, 115: 85, 116: 72}\n",
    "emp2 = {211: 67, 212: 76, 213: 80}\n",
    "\n",
    "emp1.popitem()\n",
    "del emp1[111]\n",
    "print(emp1)"
   ]
  },
  {
   "cell_type": "code",
   "execution_count": null,
   "id": "6897f13f",
   "metadata": {},
   "outputs": [],
   "source": []
  }
 ],
 "metadata": {
  "kernelspec": {
   "display_name": "Python 3 (ipykernel)",
   "language": "python",
   "name": "python3"
  },
  "language_info": {
   "codemirror_mode": {
    "name": "ipython",
    "version": 3
   },
   "file_extension": ".py",
   "mimetype": "text/x-python",
   "name": "python",
   "nbconvert_exporter": "python",
   "pygments_lexer": "ipython3",
   "version": "3.10.9"
  }
 },
 "nbformat": 4,
 "nbformat_minor": 5
}
