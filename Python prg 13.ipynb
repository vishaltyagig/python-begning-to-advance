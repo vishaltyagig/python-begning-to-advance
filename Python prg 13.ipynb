{
 "cells": [
  {
   "cell_type": "markdown",
   "id": "c7d73985",
   "metadata": {},
   "source": [
    "## Break & Continue"
   ]
  },
  {
   "cell_type": "code",
   "execution_count": 1,
   "id": "543e61e2",
   "metadata": {},
   "outputs": [
    {
     "name": "stdout",
     "output_type": "stream",
     "text": [
      "5 X 1 = 5\n",
      "5 X 2 = 10\n",
      "5 X 3 = 15\n",
      "5 X 4 = 20\n",
      "5 X 5 = 25\n",
      "5 X 6 = 30\n",
      "5 X 7 = 35\n",
      "5 X 8 = 40\n",
      "5 X 9 = 45\n",
      "5 X 10 = 50\n",
      "Out the loop\n"
     ]
    }
   ],
   "source": [
    "for i in range(12):\n",
    "    if (i==10):\n",
    "        break\n",
    "    print(\"5 X\", i+1, \"=\", 5 * (i+1))\n",
    "    \n",
    "print(\"Out the loop\")"
   ]
  },
  {
   "cell_type": "code",
   "execution_count": 3,
   "id": "3c422512",
   "metadata": {},
   "outputs": [
    {
     "name": "stdout",
     "output_type": "stream",
     "text": [
      "5 X 0 = 0\n",
      "5 X 1 = 5\n",
      "5 X 2 = 10\n",
      "5 X 3 = 15\n",
      "5 X 4 = 20\n",
      "5 X 5 = 25\n",
      "5 X 6 = 30\n",
      "5 X 7 = 35\n",
      "5 X 8 = 40\n",
      "5 X 9 = 45\n",
      "skip the iteration\n",
      "5 X 11 = 55\n"
     ]
    }
   ],
   "source": [
    "# break == out of the loop\n",
    "# Continue == out of the iteration\n",
    "\n",
    "for i in range(12):\n",
    "    if (i==10):\n",
    "        print(\"skip the iteration\")\n",
    "        continue\n",
    "    print(\"5 X\", i, \"=\", 5 * i)"
   ]
  },
  {
   "cell_type": "code",
   "execution_count": null,
   "id": "ee4ce915",
   "metadata": {},
   "outputs": [],
   "source": []
  }
 ],
 "metadata": {
  "kernelspec": {
   "display_name": "Python 3 (ipykernel)",
   "language": "python",
   "name": "python3"
  },
  "language_info": {
   "codemirror_mode": {
    "name": "ipython",
    "version": 3
   },
   "file_extension": ".py",
   "mimetype": "text/x-python",
   "name": "python",
   "nbconvert_exporter": "python",
   "pygments_lexer": "ipython3",
   "version": "3.10.9"
  }
 },
 "nbformat": 4,
 "nbformat_minor": 5
}
