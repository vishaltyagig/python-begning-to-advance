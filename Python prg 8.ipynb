{
 "cells": [
  {
   "cell_type": "markdown",
   "id": "eb726d17",
   "metadata": {},
   "source": [
    "## string Operations"
   ]
  },
  {
   "cell_type": "code",
   "execution_count": null,
   "id": "76842345",
   "metadata": {},
   "outputs": [],
   "source": [
    "# Stings are immutable"
   ]
  },
  {
   "cell_type": "code",
   "execution_count": 1,
   "id": "8a2ea3bf",
   "metadata": {},
   "outputs": [
    {
     "name": "stdout",
     "output_type": "stream",
     "text": [
      "5\n"
     ]
    }
   ],
   "source": [
    "a = \"Dadda\"\n",
    "print(len(a))"
   ]
  },
  {
   "cell_type": "code",
   "execution_count": 2,
   "id": "af423d13",
   "metadata": {},
   "outputs": [
    {
     "name": "stdout",
     "output_type": "stream",
     "text": [
      "5\n",
      "DADDA\n"
     ]
    }
   ],
   "source": [
    "a = \"Dadda\"\n",
    "print(len(a))\n",
    "print(a.upper())"
   ]
  },
  {
   "cell_type": "code",
   "execution_count": 3,
   "id": "1371b657",
   "metadata": {},
   "outputs": [
    {
     "name": "stdout",
     "output_type": "stream",
     "text": [
      "5\n",
      "dadda\n"
     ]
    }
   ],
   "source": [
    "a = \"Dadda\"\n",
    "print(len(a))\n",
    "print(a.lower())"
   ]
  },
  {
   "cell_type": "code",
   "execution_count": 4,
   "id": "e2710fa3",
   "metadata": {},
   "outputs": [
    {
     "name": "stdout",
     "output_type": "stream",
     "text": [
      "5\n",
      "DADDA\n",
      "dadda\n",
      "Vishal\n"
     ]
    }
   ],
   "source": [
    "a = \"Dadda\"\n",
    "print(len(a))\n",
    "print(a.upper())\n",
    "print(a.lower())\n",
    "print(a.replace(\"Dadda\", \"Vishal\"))"
   ]
  },
  {
   "cell_type": "code",
   "execution_count": 5,
   "id": "b3395cb7",
   "metadata": {},
   "outputs": [
    {
     "name": "stdout",
     "output_type": "stream",
     "text": [
      "11\n",
      "DADDA TYAGI\n",
      "dadda tyagi\n",
      "Vishal Tyagi Tyagi\n",
      "['Dadda', 'Tyagi']\n"
     ]
    }
   ],
   "source": [
    "a = \"Dadda Tyagi\"\n",
    "print(len(a))\n",
    "print(a.upper())\n",
    "print(a.lower())\n",
    "print(a.replace(\"Dadda\", \"Vishal Tyagi\"))\n",
    "print(a.split(\" \"))"
   ]
  },
  {
   "cell_type": "code",
   "execution_count": 7,
   "id": "14882f34",
   "metadata": {},
   "outputs": [
    {
     "name": "stdout",
     "output_type": "stream",
     "text": [
      "True\n"
     ]
    }
   ],
   "source": [
    "str1 = \"Welcome to the console !!!\"\n",
    "print(str1.endswith(\"!!!\"))"
   ]
  },
  {
   "cell_type": "code",
   "execution_count": 8,
   "id": "fc23a68b",
   "metadata": {},
   "outputs": [
    {
     "name": "stdout",
     "output_type": "stream",
     "text": [
      "True\n"
     ]
    }
   ],
   "source": [
    "str1 = \"Welcome to the console !!!\"\n",
    "print(str1.endswith(\"to\", 4, 10))"
   ]
  },
  {
   "cell_type": "code",
   "execution_count": 9,
   "id": "ae2aacb5",
   "metadata": {},
   "outputs": [
    {
     "name": "stdout",
     "output_type": "stream",
     "text": [
      "10\n"
     ]
    }
   ],
   "source": [
    "str1 = \"He's name is Dan. He is an Honest man.\"\n",
    "print(str1.find(\"is\"))"
   ]
  },
  {
   "cell_type": "code",
   "execution_count": 10,
   "id": "19337a55",
   "metadata": {},
   "outputs": [
    {
     "name": "stdout",
     "output_type": "stream",
     "text": [
      "-1\n"
     ]
    }
   ],
   "source": [
    "str1 = \"He's name is Dan. He is an Honest man.\"\n",
    "print(str1.find(\"ishh\"))"
   ]
  },
  {
   "cell_type": "code",
   "execution_count": 11,
   "id": "b99ee495",
   "metadata": {},
   "outputs": [
    {
     "name": "stdout",
     "output_type": "stream",
     "text": [
      "10\n"
     ]
    }
   ],
   "source": [
    "str1 = \"He's name is Dan. He is an Honest man.\"\n",
    "print(str1.index(\"is\"))"
   ]
  },
  {
   "cell_type": "code",
   "execution_count": 12,
   "id": "b7bc0d6b",
   "metadata": {},
   "outputs": [
    {
     "ename": "ValueError",
     "evalue": "substring not found",
     "output_type": "error",
     "traceback": [
      "\u001b[1;31m---------------------------------------------------------------------------\u001b[0m",
      "\u001b[1;31mValueError\u001b[0m                                Traceback (most recent call last)",
      "Cell \u001b[1;32mIn[12], line 2\u001b[0m\n\u001b[0;32m      1\u001b[0m str1 \u001b[38;5;241m=\u001b[39m \u001b[38;5;124m\"\u001b[39m\u001b[38;5;124mHe\u001b[39m\u001b[38;5;124m'\u001b[39m\u001b[38;5;124ms name is Dan. He is an Honest man.\u001b[39m\u001b[38;5;124m\"\u001b[39m\n\u001b[1;32m----> 2\u001b[0m \u001b[38;5;28mprint\u001b[39m(\u001b[43mstr1\u001b[49m\u001b[38;5;241;43m.\u001b[39;49m\u001b[43mindex\u001b[49m\u001b[43m(\u001b[49m\u001b[38;5;124;43m\"\u001b[39;49m\u001b[38;5;124;43mishh\u001b[39;49m\u001b[38;5;124;43m\"\u001b[39;49m\u001b[43m)\u001b[49m)\n",
      "\u001b[1;31mValueError\u001b[0m: substring not found"
     ]
    }
   ],
   "source": [
    "# str1 = \"He's name is Dan. He is an Honest man.\"\n",
    "# print(str1.index(\"ishh\"))"
   ]
  },
  {
   "cell_type": "code",
   "execution_count": 13,
   "id": "730bff10",
   "metadata": {},
   "outputs": [
    {
     "name": "stdout",
     "output_type": "stream",
     "text": [
      "False\n"
     ]
    }
   ],
   "source": [
    "# isalnum is used for only showing that the string only contain a-z or 0-9 (alphanumeric)values....\n",
    "\n",
    "str1 = \"Welcometotheconsole\"\n",
    "print(str1.isalnum())"
   ]
  },
  {
   "cell_type": "code",
   "execution_count": 14,
   "id": "e2441815",
   "metadata": {},
   "outputs": [
    {
     "name": "stdout",
     "output_type": "stream",
     "text": [
      "True\n"
     ]
    }
   ],
   "source": [
    "str1 = \"Welcome to the console\"\n",
    "print(str1.isalnum())"
   ]
  },
  {
   "cell_type": "code",
   "execution_count": 15,
   "id": "7e542e33",
   "metadata": {},
   "outputs": [
    {
     "name": "stdout",
     "output_type": "stream",
     "text": [
      "True\n"
     ]
    }
   ],
   "source": [
    "# isalpha is used for only showing that the string only contain a-z or A-Z (alphateic)values....\n",
    "\n",
    "str1 = \"Welcome\"\n",
    "print(str1.isalpha())"
   ]
  },
  {
   "cell_type": "code",
   "execution_count": 16,
   "id": "2d54a511",
   "metadata": {},
   "outputs": [
    {
     "name": "stdout",
     "output_type": "stream",
     "text": [
      "False\n"
     ]
    }
   ],
   "source": [
    "str1 = \"Welcome \"\n",
    "print(str1.isalpha())"
   ]
  },
  {
   "cell_type": "code",
   "execution_count": 17,
   "id": "fb4ea204",
   "metadata": {},
   "outputs": [
    {
     "name": "stdout",
     "output_type": "stream",
     "text": [
      "False\n"
     ]
    }
   ],
   "source": [
    "str1 = \"Welcome00\"\n",
    "print(str1.isalpha())"
   ]
  },
  {
   "cell_type": "code",
   "execution_count": 18,
   "id": "10ce7bca",
   "metadata": {},
   "outputs": [
    {
     "name": "stdout",
     "output_type": "stream",
     "text": [
      "wELCOME \n"
     ]
    }
   ],
   "source": [
    "#  swapcase -- it swaps lower to UPPER or UPPER to lower\n",
    "\n",
    "str1 = \"Welcome \"\n",
    "print(str1.swapcase())"
   ]
  },
  {
   "cell_type": "code",
   "execution_count": 19,
   "id": "62f1872c",
   "metadata": {},
   "outputs": [
    {
     "name": "stdout",
     "output_type": "stream",
     "text": [
      "WELCOME \n"
     ]
    }
   ],
   "source": [
    "str1 = \"welcome \"\n",
    "print(str1.swapcase())"
   ]
  },
  {
   "cell_type": "code",
   "execution_count": 20,
   "id": "7f872fb2",
   "metadata": {},
   "outputs": [
    {
     "name": "stdout",
     "output_type": "stream",
     "text": [
      "welcome\n"
     ]
    }
   ],
   "source": [
    "str1 = \"WELCOME\"\n",
    "print(str1.swapcase())"
   ]
  },
  {
   "cell_type": "code",
   "execution_count": null,
   "id": "5ca497be",
   "metadata": {},
   "outputs": [],
   "source": []
  }
 ],
 "metadata": {
  "kernelspec": {
   "display_name": "Python 3 (ipykernel)",
   "language": "python",
   "name": "python3"
  },
  "language_info": {
   "codemirror_mode": {
    "name": "ipython",
    "version": 3
   },
   "file_extension": ".py",
   "mimetype": "text/x-python",
   "name": "python",
   "nbconvert_exporter": "python",
   "pygments_lexer": "ipython3",
   "version": "3.10.9"
  }
 },
 "nbformat": 4,
 "nbformat_minor": 5
}
