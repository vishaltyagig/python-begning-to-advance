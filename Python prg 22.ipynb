{
 "cells": [
  {
   "cell_type": "markdown",
   "id": "98fff085",
   "metadata": {},
   "source": [
    "## F String"
   ]
  },
  {
   "cell_type": "code",
   "execution_count": 1,
   "id": "683d544f",
   "metadata": {},
   "outputs": [
    {
     "name": "stdout",
     "output_type": "stream",
     "text": [
      "Hey my name is Harry and i m from Bharat\n",
      "Hey my name is Harry and i m from Bharat\n"
     ]
    }
   ],
   "source": [
    "letter = \"Hey my name is {1} and i m from {0}\" \n",
    "country = \"Bharat\"\n",
    "name = \"Harry\"\n",
    "print(letter.format(country, name))\n",
    "print(f\"Hey my name is {name} and i m from {country}\")"
   ]
  },
  {
   "cell_type": "code",
   "execution_count": 2,
   "id": "8277fa0d",
   "metadata": {},
   "outputs": [
    {
     "name": "stdout",
     "output_type": "stream",
     "text": [
      "Hey my name is Harry and i m from Bharat\n",
      "Hey my name is Harry and i m from Bharat\n",
      "we use f string like this: Hey my name is Harry and i m from Bharat\n"
     ]
    }
   ],
   "source": [
    "letter = \"Hey my name is {1} and i m from {0}\" \n",
    "country = \"Bharat\"\n",
    "name = \"Harry\"\n",
    "print(letter.format(country, name))\n",
    "print(f\"Hey my name is {name} and i m from {country}\")\n",
    "print(f\"we use f string like this: Hey my name is {name} and i m from {country}\")"
   ]
  },
  {
   "cell_type": "code",
   "execution_count": 4,
   "id": "1345b4e1",
   "metadata": {},
   "outputs": [
    {
     "name": "stdout",
     "output_type": "stream",
     "text": [
      "Hey my name is Harry and i m from Bharat\n",
      "Hey my name is Harry and i m from Bharat\n",
      "we use f string like this: Hey my name is {name} and i m from {country}\n"
     ]
    }
   ],
   "source": [
    "letter = \"Hey my name is {1} and i m from {0}\" \n",
    "country = \"Bharat\"\n",
    "name = \"Harry\"\n",
    "print(letter.format(country, name))\n",
    "print(f\"Hey my name is {name} and i m from {country}\")\n",
    "print(f\"we use f string like this: Hey my name is {{name}} and i m from {{country}}\")"
   ]
  },
  {
   "cell_type": "code",
   "execution_count": 3,
   "id": "b0d67e28",
   "metadata": {},
   "outputs": [
    {
     "name": "stdout",
     "output_type": "stream",
     "text": [
      " for only  54.05 dollars!\n"
     ]
    }
   ],
   "source": [
    "price = 54.0549119\n",
    "text = f\" for only {price: .2f} dollars!\"\n",
    "print(text)\n",
    "# print(type(f\"{2 * 30}\"\"))"
   ]
  },
  {
   "cell_type": "code",
   "execution_count": null,
   "id": "bd165b0f",
   "metadata": {},
   "outputs": [],
   "source": []
  }
 ],
 "metadata": {
  "kernelspec": {
   "display_name": "Python 3 (ipykernel)",
   "language": "python",
   "name": "python3"
  },
  "language_info": {
   "codemirror_mode": {
    "name": "ipython",
    "version": 3
   },
   "file_extension": ".py",
   "mimetype": "text/x-python",
   "name": "python",
   "nbconvert_exporter": "python",
   "pygments_lexer": "ipython3",
   "version": "3.10.9"
  }
 },
 "nbformat": 4,
 "nbformat_minor": 5
}
